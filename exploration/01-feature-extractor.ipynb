{
 "cells": [
  {
   "cell_type": "markdown",
   "id": "bdba5822-8386-495d-8c7d-19a70865806b",
   "metadata": {
    "tags": []
   },
   "source": [
    "## Imports"
   ]
  },
  {
   "cell_type": "code",
   "execution_count": 2,
   "id": "16ed7d9b-99ea-44d6-ae5c-0318b307893d",
   "metadata": {
    "tags": []
   },
   "outputs": [],
   "source": [
    "import os\n",
    "import pathlib\n",
    "import urllib.request\n",
    "import tarfile\n",
    "import pandas as pd\n",
    "import cv2\n",
    "import sklearn.model_selection\n",
    "import sagemaker"
   ]
  },
  {
   "cell_type": "markdown",
   "id": "0f116d1d-166c-466f-b21f-c5afb0f893a5",
   "metadata": {},
   "source": [
    "## Clients"
   ]
  },
  {
   "cell_type": "code",
   "execution_count": 3,
   "id": "bd4e7cd6-033a-4b7a-90d3-a8888c69c424",
   "metadata": {
    "tags": []
   },
   "outputs": [],
   "source": [
    "sagemaker_session = sagemaker.Session()"
   ]
  },
  {
   "cell_type": "markdown",
   "id": "815397af-531a-437b-89a7-ba1e1ca65c76",
   "metadata": {},
   "source": [
    "## Constants\n",
    "\n",
    "* DataSet url\n",
    "* ML pathlib directory"
   ]
  },
  {
   "cell_type": "code",
   "execution_count": 4,
   "id": "f24b0131-d675-4f7e-b39f-48317d1741f3",
   "metadata": {
    "tags": []
   },
   "outputs": [],
   "source": [
    "BIRDS_200_DIR = \"CUB_200_2011\"\n",
    "BIRDS_200_DATASET_S3_URL = f\"https://s3.amazonaws.com/fast-ai-imageclas/{BIRDS_200_DIR}.tgz\"\n",
    "IM2REC_GITHUB_URL = \"https://raw.githubusercontent.com/apache/mxnet/master/tools/im2rec.py\"\n",
    "\n",
    "ML_DIR = pathlib.Path(\"/opt/ml/\")\n",
    "ML_DATA_DIR = ML_DIR / \"data\"\n",
    "ML_DATA_BIRDS_200_DIR = ML_DATA_DIR / BIRDS_200_DIR\n",
    "ML_PROC_DIR = ML_DIR / \"proc\"\n",
    "ML_PROC_TRAIN_DIR = ML_PROC_DIR / \"train\"\n",
    "ML_PROC_TEST_DIR = ML_PROC_DIR / \"test\"\n",
    "ML_PROC_VALIDATION_DIR = ML_PROC_DIR / \"validation\"\n",
    "\n",
    "IMAGE_ID = \"image_id\"\n",
    "CLASS_ID = \"class_id\"\n",
    "\n",
    "CLASSES_TXT = ML_DATA_BIRDS_200_DIR / \"classes.txt\"\n",
    "BOUNDING_BOX_TXT = ML_DATA_BIRDS_200_DIR / \"bounding_boxes.txt\"\n",
    "IMAGES_TXT = ML_DATA_BIRDS_200_DIR / \"images.txt\"\n",
    "IMAGE_CLASS_LABELS_TXT = ML_DATA_BIRDS_200_DIR / \"image_class_labels.txt\"\n",
    "SIZES_TXT = ML_DATA_BIRDS_200_DIR / \"sizes.txt\"\n",
    "TRAIN_TEST_SPLIT_TXT = ML_DATA_BIRDS_200_DIR / \"train_test_split.txt\"\n",
    "IMAGES_DIR = ML_DATA_BIRDS_200_DIR / \"images\"\n",
    "\n",
    "RESIZE_SIZE = 256\n",
    "PACK_LABEL = \"bird_200\"\n",
    "\n",
    "TRAIN_LST = f\"{PACK_LABEL}_train.lst\"\n",
    "VAL_LST = f\"{PACK_LABEL}_val.lst\"\n",
    "TEST_LST = f\"{PACK_LABEL}_test.lst\"\n",
    "\n",
    "TRAIN_REC = f\"{PACK_LABEL}_train.rec\"\n",
    "VAL_REC = f\"{PACK_LABEL}_val.rec\"\n",
    "TEST_REC = f\"{PACK_LABEL}_test.rec\"\n",
    "\n",
    "LST_COLS = [\"A\", \"B\", \"box_x0\", \"box_y0\", \"box_x1\", \"box_y1\", \"class_id\", \"relative_image_path\"]\n",
    "TEST_SIZE_FRACTION = 0.2\n",
    "BUCKET = \"sagemaker-us-east-1-180797159824\""
   ]
  },
  {
   "cell_type": "markdown",
   "id": "d9ac8894-66ca-4a3f-9883-e49330515bce",
   "metadata": {},
   "source": [
    "## Create directories"
   ]
  },
  {
   "cell_type": "code",
   "execution_count": 5,
   "id": "84d5f54b-5541-4b50-b884-4a479ebc28e7",
   "metadata": {
    "tags": []
   },
   "outputs": [],
   "source": [
    "ML_DIR.mkdir(exist_ok=True)\n",
    "ML_DATA_DIR.mkdir(exist_ok=True)\n",
    "ML_PROC_DIR.mkdir(exist_ok=True)\n",
    "ML_PROC_TRAIN_DIR.mkdir(exist_ok=True)\n",
    "ML_PROC_TEST_DIR.mkdir(exist_ok=True)\n",
    "ML_PROC_VALIDATION_DIR.mkdir(exist_ok=True)"
   ]
  },
  {
   "cell_type": "markdown",
   "id": "66e47930-4b5d-4e3c-8ff4-b51eb2335337",
   "metadata": {},
   "source": [
    "## Download the dataset"
   ]
  },
  {
   "cell_type": "code",
   "execution_count": 6,
   "id": "2b38f9f0-c608-4635-af21-c9969267ffaa",
   "metadata": {
    "tags": []
   },
   "outputs": [],
   "source": [
    "def download(url, download_dir, force=False):\n",
    "    filename = url.split(\"/\")[-1]\n",
    "    filepath = download_dir / filename\n",
    "    if force or not filepath.exists():\n",
    "        urllib.request.urlretrieve(url, filepath)\n",
    "    return filepath"
   ]
  },
  {
   "cell_type": "code",
   "execution_count": 7,
   "id": "c3246eab-2ca8-47f4-9b53-2f36e78343a8",
   "metadata": {
    "tags": []
   },
   "outputs": [
    {
     "name": "stdout",
     "output_type": "stream",
     "text": [
      "/opt/ml/data/CUB_200_2011.tgz\n"
     ]
    }
   ],
   "source": [
    "dataset_path = download(BIRDS_200_DATASET_S3_URL, download_dir=ML_DATA_DIR)\n",
    "print(dataset_path)"
   ]
  },
  {
   "cell_type": "markdown",
   "id": "7ae92967-ca8a-430d-baf9-ec040e596497",
   "metadata": {},
   "source": [
    "## Extract the dataset"
   ]
  },
  {
   "cell_type": "code",
   "execution_count": 8,
   "id": "e22f7745-2ee2-4903-8cd4-8f18fe6eecb2",
   "metadata": {
    "tags": []
   },
   "outputs": [],
   "source": [
    "compressed = tarfile.open(dataset_path)\n",
    "compressed.extractall(ML_DATA_DIR)"
   ]
  },
  {
   "cell_type": "markdown",
   "id": "0820913d-6353-43d9-9020-8708afc56bb9",
   "metadata": {},
   "source": [
    "## Load the dataset"
   ]
  },
  {
   "cell_type": "code",
   "execution_count": 9,
   "id": "256d3101-e413-418f-9548-f42c3b581ea7",
   "metadata": {
    "tags": []
   },
   "outputs": [
    {
     "data": {
      "text/html": [
       "<div>\n",
       "<style scoped>\n",
       "    .dataframe tbody tr th:only-of-type {\n",
       "        vertical-align: middle;\n",
       "    }\n",
       "\n",
       "    .dataframe tbody tr th {\n",
       "        vertical-align: top;\n",
       "    }\n",
       "\n",
       "    .dataframe thead th {\n",
       "        text-align: right;\n",
       "    }\n",
       "</style>\n",
       "<table border=\"1\" class=\"dataframe\">\n",
       "  <thead>\n",
       "    <tr style=\"text-align: right;\">\n",
       "      <th></th>\n",
       "      <th>image_id</th>\n",
       "      <th>box_x0</th>\n",
       "      <th>box_y0</th>\n",
       "      <th>box_x1</th>\n",
       "      <th>box_y1</th>\n",
       "      <th>image_file_name</th>\n",
       "      <th>class_id</th>\n",
       "      <th>is_train</th>\n",
       "      <th>class_name</th>\n",
       "    </tr>\n",
       "  </thead>\n",
       "  <tbody>\n",
       "    <tr>\n",
       "      <th>0</th>\n",
       "      <td>1</td>\n",
       "      <td>60.0</td>\n",
       "      <td>27.0</td>\n",
       "      <td>325.0</td>\n",
       "      <td>304.0</td>\n",
       "      <td>001.Black_footed_Albatross/Black_Footed_Albatr...</td>\n",
       "      <td>1</td>\n",
       "      <td>0</td>\n",
       "      <td>001.Black_footed_Albatross</td>\n",
       "    </tr>\n",
       "    <tr>\n",
       "      <th>1</th>\n",
       "      <td>2</td>\n",
       "      <td>139.0</td>\n",
       "      <td>30.0</td>\n",
       "      <td>153.0</td>\n",
       "      <td>264.0</td>\n",
       "      <td>001.Black_footed_Albatross/Black_Footed_Albatr...</td>\n",
       "      <td>1</td>\n",
       "      <td>1</td>\n",
       "      <td>001.Black_footed_Albatross</td>\n",
       "    </tr>\n",
       "    <tr>\n",
       "      <th>2</th>\n",
       "      <td>3</td>\n",
       "      <td>14.0</td>\n",
       "      <td>112.0</td>\n",
       "      <td>388.0</td>\n",
       "      <td>186.0</td>\n",
       "      <td>001.Black_footed_Albatross/Black_Footed_Albatr...</td>\n",
       "      <td>1</td>\n",
       "      <td>0</td>\n",
       "      <td>001.Black_footed_Albatross</td>\n",
       "    </tr>\n",
       "    <tr>\n",
       "      <th>3</th>\n",
       "      <td>4</td>\n",
       "      <td>112.0</td>\n",
       "      <td>90.0</td>\n",
       "      <td>255.0</td>\n",
       "      <td>242.0</td>\n",
       "      <td>001.Black_footed_Albatross/Black_Footed_Albatr...</td>\n",
       "      <td>1</td>\n",
       "      <td>1</td>\n",
       "      <td>001.Black_footed_Albatross</td>\n",
       "    </tr>\n",
       "    <tr>\n",
       "      <th>4</th>\n",
       "      <td>5</td>\n",
       "      <td>70.0</td>\n",
       "      <td>50.0</td>\n",
       "      <td>134.0</td>\n",
       "      <td>303.0</td>\n",
       "      <td>001.Black_footed_Albatross/Black_Footed_Albatr...</td>\n",
       "      <td>1</td>\n",
       "      <td>1</td>\n",
       "      <td>001.Black_footed_Albatross</td>\n",
       "    </tr>\n",
       "  </tbody>\n",
       "</table>\n",
       "</div>"
      ],
      "text/plain": [
       "   image_id  box_x0  box_y0  box_x1  box_y1  \\\n",
       "0         1    60.0    27.0   325.0   304.0   \n",
       "1         2   139.0    30.0   153.0   264.0   \n",
       "2         3    14.0   112.0   388.0   186.0   \n",
       "3         4   112.0    90.0   255.0   242.0   \n",
       "4         5    70.0    50.0   134.0   303.0   \n",
       "\n",
       "                                     image_file_name  class_id  is_train  \\\n",
       "0  001.Black_footed_Albatross/Black_Footed_Albatr...         1         0   \n",
       "1  001.Black_footed_Albatross/Black_Footed_Albatr...         1         1   \n",
       "2  001.Black_footed_Albatross/Black_Footed_Albatr...         1         0   \n",
       "3  001.Black_footed_Albatross/Black_Footed_Albatr...         1         1   \n",
       "4  001.Black_footed_Albatross/Black_Footed_Albatr...         1         1   \n",
       "\n",
       "                   class_name  \n",
       "0  001.Black_footed_Albatross  \n",
       "1  001.Black_footed_Albatross  \n",
       "2  001.Black_footed_Albatross  \n",
       "3  001.Black_footed_Albatross  \n",
       "4  001.Black_footed_Albatross  "
      ]
     },
     "execution_count": 9,
     "metadata": {},
     "output_type": "execute_result"
    }
   ],
   "source": [
    "classes_df = pd.read_csv(CLASSES_TXT, sep=\" \", names=[CLASS_ID, \"class_name\"], header=None)\n",
    "bounding_box_df = pd.read_csv(BOUNDING_BOX_TXT, sep=\" \", names=[IMAGE_ID, \"box_x0\", \"box_y0\", \"box_x1\", \"box_y1\"], header=None)\n",
    "images_df = pd.read_csv(IMAGES_TXT, sep=\" \", names=[IMAGE_ID, \"image_file_name\"], header=None)\n",
    "image_class_labels_df = pd.read_csv(IMAGE_CLASS_LABELS_TXT, sep=\" \", names=[IMAGE_ID, CLASS_ID], header=None)\n",
    "train_test_split_df = pd.read_csv(TRAIN_TEST_SPLIT_TXT, sep=\" \", names=[IMAGE_ID, \"is_train\"], header=None)\n",
    "\n",
    "full_df = bounding_box_df.merge(images_df, how=\"outer\", on=IMAGE_ID)\n",
    "full_df = full_df.merge(image_class_labels_df, how=\"outer\", on=IMAGE_ID)\n",
    "full_df = full_df.merge(train_test_split_df, how=\"outer\", on=IMAGE_ID)\n",
    "full_df = full_df.merge(classes_df, how=\"outer\", on=CLASS_ID)\n",
    "full_df.head()"
   ]
  },
  {
   "cell_type": "markdown",
   "id": "3dd47e16-423d-437a-8668-d1e9f2b1862f",
   "metadata": {},
   "source": [
    "## Create annotated .lst files\n",
    "\n",
    "To create annotated .lst files for detection, please refer to the instructions provided in this README - Creating Your Own .lst Files for Detection.\n",
    "The format of the .lst file is as follows:\n",
    "\n",
    "```\n",
    "RowIdx  A  B  [Extra Header]   [(Object0), (Object1), ... (ObjectN)] <Filename>\n",
    "```\n",
    "\n",
    "Please note that [Extra Header] and (ObjectX) are separate groups of columns that consist of multiple columns each.\n",
    "\n",
    "* `RowIdx` indicates the index of the row, starting from 0.\n",
    "* `A` represents the total number of columns in [Extra Header] plus 2.\n",
    "* `B` denotes the number of columns that each ObjectX contains.\n",
    "* `[Extra Header]` is an optional section for additional header information, such as image width/height.\n",
    "* `[(Object0), (Object1), ..., (ObjectN)]` is a list of objects, where each object is composed of multiple columns.\n",
    "* `<Filename>` is the relative filepath of the image\n",
    "\n",
    "The separator `\\t` must be used."
   ]
  },
  {
   "cell_type": "code",
   "execution_count": 10,
   "id": "cfcdfd23-752b-4a68-b425-e0d025ed5ded",
   "metadata": {
    "tags": []
   },
   "outputs": [],
   "source": [
    "(train_val_entries, test_entries) = ([], [])\n",
    "for i, row in full_df.iterrows():\n",
    "    img_path = IMAGES_DIR / row[\"image_file_name\"]\n",
    "    img = cv2.imread(str(img_path))\n",
    "    (height, width, _) = img.shape\n",
    "    (box_x0, box_x1, box_y0, box_y1) = (row[\"box_x0\"], row[\"box_x1\"], row[\"box_y0\"], row[\"box_y1\"])\n",
    "    (box_x0, box_x1, box_y0, box_y1) = (box_x0/height, box_x1/height, box_y0/width, box_y1/width)\n",
    "    entry = {\n",
    "        \"A\": 2,\n",
    "        \"B\": 5,\n",
    "        \"relative_image_path\": row[\"image_file_name\"],\n",
    "        \"box_x0\": box_x0,\n",
    "        \"box_x1\": box_x1,\n",
    "        \"box_y0\": box_y0,\n",
    "        \"box_y1\": box_y1,\n",
    "        \"class_id\": float(row[\"class_id\"] - 1), # 1, 2, ... -> 0, 1, ....\n",
    "    }\n",
    "    if row[\"is_train\"]:\n",
    "        train_val_entries.append(entry)\n",
    "    else:\n",
    "        test_entries.append(entry)\n",
    "\n",
    "(train_val_df, test_df) = (pd.DataFrame(train_val_entries).reindex(LST_COLS, axis=1), pd.DataFrame(test_entries).reindex(LST_COLS, axis=1))\n",
    "(train_df, val_df) = sklearn.model_selection.train_test_split(train_val_df, test_size=TEST_SIZE_FRACTION)"
   ]
  },
  {
   "cell_type": "code",
   "execution_count": 11,
   "id": "49e60941-232c-4818-9dc4-15d8882b8897",
   "metadata": {
    "tags": []
   },
   "outputs": [
    {
     "data": {
      "text/html": [
       "<div>\n",
       "<style scoped>\n",
       "    .dataframe tbody tr th:only-of-type {\n",
       "        vertical-align: middle;\n",
       "    }\n",
       "\n",
       "    .dataframe tbody tr th {\n",
       "        vertical-align: top;\n",
       "    }\n",
       "\n",
       "    .dataframe thead th {\n",
       "        text-align: right;\n",
       "    }\n",
       "</style>\n",
       "<table border=\"1\" class=\"dataframe\">\n",
       "  <thead>\n",
       "    <tr style=\"text-align: right;\">\n",
       "      <th></th>\n",
       "      <th>A</th>\n",
       "      <th>B</th>\n",
       "      <th>box_x0</th>\n",
       "      <th>box_y0</th>\n",
       "      <th>box_x1</th>\n",
       "      <th>box_y1</th>\n",
       "      <th>class_id</th>\n",
       "      <th>relative_image_path</th>\n",
       "    </tr>\n",
       "  </thead>\n",
       "  <tbody>\n",
       "    <tr>\n",
       "      <th>631</th>\n",
       "      <td>2</td>\n",
       "      <td>5</td>\n",
       "      <td>0.127226</td>\n",
       "      <td>0.196</td>\n",
       "      <td>0.826972</td>\n",
       "      <td>0.476</td>\n",
       "      <td>21.0</td>\n",
       "      <td>022.Chuck_will_Widow/Chuck_Will_Widow_0012_796...</td>\n",
       "    </tr>\n",
       "    <tr>\n",
       "      <th>5967</th>\n",
       "      <td>2</td>\n",
       "      <td>5</td>\n",
       "      <td>0.420054</td>\n",
       "      <td>0.202</td>\n",
       "      <td>0.869919</td>\n",
       "      <td>0.484</td>\n",
       "      <td>199.0</td>\n",
       "      <td>200.Common_Yellowthroat/Common_Yellowthroat_00...</td>\n",
       "    </tr>\n",
       "  </tbody>\n",
       "</table>\n",
       "</div>"
      ],
      "text/plain": [
       "      A  B    box_x0  box_y0    box_x1  box_y1  class_id  \\\n",
       "631   2  5  0.127226   0.196  0.826972   0.476      21.0   \n",
       "5967  2  5  0.420054   0.202  0.869919   0.484     199.0   \n",
       "\n",
       "                                    relative_image_path  \n",
       "631   022.Chuck_will_Widow/Chuck_Will_Widow_0012_796...  \n",
       "5967  200.Common_Yellowthroat/Common_Yellowthroat_00...  "
      ]
     },
     "execution_count": 11,
     "metadata": {},
     "output_type": "execute_result"
    }
   ],
   "source": [
    "train_df.head(2)"
   ]
  },
  {
   "cell_type": "code",
   "execution_count": 12,
   "id": "ca35ff7e-87b3-421f-baa8-eae0a014634d",
   "metadata": {
    "tags": []
   },
   "outputs": [
    {
     "data": {
      "text/html": [
       "<div>\n",
       "<style scoped>\n",
       "    .dataframe tbody tr th:only-of-type {\n",
       "        vertical-align: middle;\n",
       "    }\n",
       "\n",
       "    .dataframe tbody tr th {\n",
       "        vertical-align: top;\n",
       "    }\n",
       "\n",
       "    .dataframe thead th {\n",
       "        text-align: right;\n",
       "    }\n",
       "</style>\n",
       "<table border=\"1\" class=\"dataframe\">\n",
       "  <thead>\n",
       "    <tr style=\"text-align: right;\">\n",
       "      <th></th>\n",
       "      <th>A</th>\n",
       "      <th>B</th>\n",
       "      <th>box_x0</th>\n",
       "      <th>box_y0</th>\n",
       "      <th>box_x1</th>\n",
       "      <th>box_y1</th>\n",
       "      <th>class_id</th>\n",
       "      <th>relative_image_path</th>\n",
       "    </tr>\n",
       "  </thead>\n",
       "  <tbody>\n",
       "    <tr>\n",
       "      <th>3824</th>\n",
       "      <td>2</td>\n",
       "      <td>5</td>\n",
       "      <td>0.324895</td>\n",
       "      <td>0.252</td>\n",
       "      <td>0.318565</td>\n",
       "      <td>0.428</td>\n",
       "      <td>127.0</td>\n",
       "      <td>128.Seaside_Sparrow/Seaside_Sparrow_0045_12069...</td>\n",
       "    </tr>\n",
       "    <tr>\n",
       "      <th>2321</th>\n",
       "      <td>2</td>\n",
       "      <td>5</td>\n",
       "      <td>0.550898</td>\n",
       "      <td>0.252</td>\n",
       "      <td>0.305389</td>\n",
       "      <td>0.224</td>\n",
       "      <td>77.0</td>\n",
       "      <td>078.Gray_Kingbird/Gray_Kingbird_0016_70288.jpg</td>\n",
       "    </tr>\n",
       "  </tbody>\n",
       "</table>\n",
       "</div>"
      ],
      "text/plain": [
       "      A  B    box_x0  box_y0    box_x1  box_y1  class_id  \\\n",
       "3824  2  5  0.324895   0.252  0.318565   0.428     127.0   \n",
       "2321  2  5  0.550898   0.252  0.305389   0.224      77.0   \n",
       "\n",
       "                                    relative_image_path  \n",
       "3824  128.Seaside_Sparrow/Seaside_Sparrow_0045_12069...  \n",
       "2321     078.Gray_Kingbird/Gray_Kingbird_0016_70288.jpg  "
      ]
     },
     "execution_count": 12,
     "metadata": {},
     "output_type": "execute_result"
    }
   ],
   "source": [
    "val_df.head(2)"
   ]
  },
  {
   "cell_type": "code",
   "execution_count": 13,
   "id": "176cbc0b-8540-4284-919c-03282b34578a",
   "metadata": {
    "tags": []
   },
   "outputs": [
    {
     "data": {
      "text/html": [
       "<div>\n",
       "<style scoped>\n",
       "    .dataframe tbody tr th:only-of-type {\n",
       "        vertical-align: middle;\n",
       "    }\n",
       "\n",
       "    .dataframe tbody tr th {\n",
       "        vertical-align: top;\n",
       "    }\n",
       "\n",
       "    .dataframe thead th {\n",
       "        text-align: right;\n",
       "    }\n",
       "</style>\n",
       "<table border=\"1\" class=\"dataframe\">\n",
       "  <thead>\n",
       "    <tr style=\"text-align: right;\">\n",
       "      <th></th>\n",
       "      <th>A</th>\n",
       "      <th>B</th>\n",
       "      <th>box_x0</th>\n",
       "      <th>box_y0</th>\n",
       "      <th>box_x1</th>\n",
       "      <th>box_y1</th>\n",
       "      <th>class_id</th>\n",
       "      <th>relative_image_path</th>\n",
       "    </tr>\n",
       "  </thead>\n",
       "  <tbody>\n",
       "    <tr>\n",
       "      <th>0</th>\n",
       "      <td>2</td>\n",
       "      <td>5</td>\n",
       "      <td>0.179104</td>\n",
       "      <td>0.054</td>\n",
       "      <td>0.970149</td>\n",
       "      <td>0.608</td>\n",
       "      <td>0.0</td>\n",
       "      <td>001.Black_footed_Albatross/Black_Footed_Albatr...</td>\n",
       "    </tr>\n",
       "    <tr>\n",
       "      <th>1</th>\n",
       "      <td>2</td>\n",
       "      <td>5</td>\n",
       "      <td>0.040346</td>\n",
       "      <td>0.224</td>\n",
       "      <td>1.118156</td>\n",
       "      <td>0.372</td>\n",
       "      <td>0.0</td>\n",
       "      <td>001.Black_footed_Albatross/Black_Footed_Albatr...</td>\n",
       "    </tr>\n",
       "  </tbody>\n",
       "</table>\n",
       "</div>"
      ],
      "text/plain": [
       "   A  B    box_x0  box_y0    box_x1  box_y1  class_id  \\\n",
       "0  2  5  0.179104   0.054  0.970149   0.608       0.0   \n",
       "1  2  5  0.040346   0.224  1.118156   0.372       0.0   \n",
       "\n",
       "                                 relative_image_path  \n",
       "0  001.Black_footed_Albatross/Black_Footed_Albatr...  \n",
       "1  001.Black_footed_Albatross/Black_Footed_Albatr...  "
      ]
     },
     "execution_count": 13,
     "metadata": {},
     "output_type": "execute_result"
    }
   ],
   "source": [
    "test_df.head(2)"
   ]
  },
  {
   "cell_type": "markdown",
   "id": "829140ed-5173-45b6-a0f6-3c529718e6d2",
   "metadata": {},
   "source": [
    "## Prepare directories for RecordIO creation"
   ]
  },
  {
   "cell_type": "code",
   "execution_count": 14,
   "id": "d40d23e2-801a-4550-bd63-91c776fbce72",
   "metadata": {
    "tags": []
   },
   "outputs": [],
   "source": [
    "train_df.to_csv(TRAIN_LST, sep=\"\\t\", float_format=\"%.4f\", header=False)\n",
    "val_df.to_csv(VAL_LST, sep=\"\\t\", float_format=\"%.4f\", header=False)\n",
    "test_df.to_csv(TEST_LST, sep=\"\\t\", float_format=\"%.4f\", header=False)"
   ]
  },
  {
   "cell_type": "code",
   "execution_count": 15,
   "id": "c30bfaa1-b732-4f95-8288-3ebaf419fd3b",
   "metadata": {
    "tags": []
   },
   "outputs": [
    {
     "name": "stdout",
     "output_type": "stream",
     "text": [
      "3785\t2\t5\t0.4850\t0.0560\t0.5240\t0.5520\t126.0000\t127.Savannah_Sparrow/Savannah_Sparrow_0066_119949.jpg\n",
      "527\t2\t5\t0.3086\t0.0160\t0.7062\t0.6400\t17.0000\t018.Spotted_Catbird/Spotted_Catbird_0005_19411.jpg\n",
      "4774\t2\t5\t0.3084\t0.1920\t1.1856\t0.4740\t159.0000\t160.Black_throated_Blue_Warbler/Black_Throated_Blue_Warbler_0106_161523.jpg\n"
     ]
    }
   ],
   "source": [
    "!tail -n 3 $TRAIN_LST"
   ]
  },
  {
   "cell_type": "markdown",
   "id": "3044693b-ce4b-49dd-9cdd-8359d3ddb8b5",
   "metadata": {},
   "source": [
    "## Create RecordIO files -- model inputs\n",
    "\n",
    "The model expects RecordIO files as input. This is accomplished by [im2rec.py](https://github.com/apache/mxnet/blob/master/tools/im2rec.py) as follows:\n",
    "1. Create train.lst and test.lst in the same directory as images\n",
    "1. Run the `im2rec.py` to produce the .rec file"
   ]
  },
  {
   "cell_type": "code",
   "execution_count": 16,
   "id": "99596d6a-a806-42e0-bb4f-9e66be2aee6b",
   "metadata": {},
   "outputs": [
    {
     "data": {
      "text/plain": [
       "0"
      ]
     },
     "execution_count": 16,
     "metadata": {},
     "output_type": "execute_result"
    }
   ],
   "source": [
    "download(IM2REC_GITHUB_URL, download_dir=pathlib.Path(\".\"))\n",
    "os.system(f\"python3 im2rec.py --resize {RESIZE_SIZE} --pack-label {PACK_LABEL} {IMAGES_DIR}\")"
   ]
  },
  {
   "cell_type": "markdown",
   "id": "c8298a11-1042-4ff7-a2f5-30708ec508f4",
   "metadata": {},
   "source": [
    "## Upload and Register RecordIO files"
   ]
  },
  {
   "cell_type": "code",
   "execution_count": 17,
   "id": "2e719a89-4c4e-4fe7-96f1-489622d5f709",
   "metadata": {
    "tags": []
   },
   "outputs": [
    {
     "data": {
      "text/plain": [
       "'s3://sagemaker-us-east-1-180797159824/validation/bird_200_val.rec'"
      ]
     },
     "execution_count": 17,
     "metadata": {},
     "output_type": "execute_result"
    }
   ],
   "source": [
    "train_channel = \"train\"\n",
    "validation_channel = \"validation\"\n",
    "\n",
    "sagemaker_session.upload_data(path=TRAIN_REC, bucket=BUCKET, key_prefix=train_channel)\n",
    "sagemaker_session.upload_data(path=VAL_REC, bucket=BUCKET, key_prefix=validation_channel)"
   ]
  },
  {
   "cell_type": "markdown",
   "id": "9c9c5c54-b351-4414-86fe-1d5bafaba79f",
   "metadata": {},
   "source": [
    "The files are now in s3, ready to use for training."
   ]
  }
 ],
 "metadata": {
  "availableInstances": [
   {
    "_defaultOrder": 0,
    "_isFastLaunch": true,
    "category": "General purpose",
    "gpuNum": 0,
    "hideHardwareSpecs": false,
    "memoryGiB": 4,
    "name": "ml.t3.medium",
    "vcpuNum": 2
   },
   {
    "_defaultOrder": 1,
    "_isFastLaunch": false,
    "category": "General purpose",
    "gpuNum": 0,
    "hideHardwareSpecs": false,
    "memoryGiB": 8,
    "name": "ml.t3.large",
    "vcpuNum": 2
   },
   {
    "_defaultOrder": 2,
    "_isFastLaunch": false,
    "category": "General purpose",
    "gpuNum": 0,
    "hideHardwareSpecs": false,
    "memoryGiB": 16,
    "name": "ml.t3.xlarge",
    "vcpuNum": 4
   },
   {
    "_defaultOrder": 3,
    "_isFastLaunch": false,
    "category": "General purpose",
    "gpuNum": 0,
    "hideHardwareSpecs": false,
    "memoryGiB": 32,
    "name": "ml.t3.2xlarge",
    "vcpuNum": 8
   },
   {
    "_defaultOrder": 4,
    "_isFastLaunch": true,
    "category": "General purpose",
    "gpuNum": 0,
    "hideHardwareSpecs": false,
    "memoryGiB": 8,
    "name": "ml.m5.large",
    "vcpuNum": 2
   },
   {
    "_defaultOrder": 5,
    "_isFastLaunch": false,
    "category": "General purpose",
    "gpuNum": 0,
    "hideHardwareSpecs": false,
    "memoryGiB": 16,
    "name": "ml.m5.xlarge",
    "vcpuNum": 4
   },
   {
    "_defaultOrder": 6,
    "_isFastLaunch": false,
    "category": "General purpose",
    "gpuNum": 0,
    "hideHardwareSpecs": false,
    "memoryGiB": 32,
    "name": "ml.m5.2xlarge",
    "vcpuNum": 8
   },
   {
    "_defaultOrder": 7,
    "_isFastLaunch": false,
    "category": "General purpose",
    "gpuNum": 0,
    "hideHardwareSpecs": false,
    "memoryGiB": 64,
    "name": "ml.m5.4xlarge",
    "vcpuNum": 16
   },
   {
    "_defaultOrder": 8,
    "_isFastLaunch": false,
    "category": "General purpose",
    "gpuNum": 0,
    "hideHardwareSpecs": false,
    "memoryGiB": 128,
    "name": "ml.m5.8xlarge",
    "vcpuNum": 32
   },
   {
    "_defaultOrder": 9,
    "_isFastLaunch": false,
    "category": "General purpose",
    "gpuNum": 0,
    "hideHardwareSpecs": false,
    "memoryGiB": 192,
    "name": "ml.m5.12xlarge",
    "vcpuNum": 48
   },
   {
    "_defaultOrder": 10,
    "_isFastLaunch": false,
    "category": "General purpose",
    "gpuNum": 0,
    "hideHardwareSpecs": false,
    "memoryGiB": 256,
    "name": "ml.m5.16xlarge",
    "vcpuNum": 64
   },
   {
    "_defaultOrder": 11,
    "_isFastLaunch": false,
    "category": "General purpose",
    "gpuNum": 0,
    "hideHardwareSpecs": false,
    "memoryGiB": 384,
    "name": "ml.m5.24xlarge",
    "vcpuNum": 96
   },
   {
    "_defaultOrder": 12,
    "_isFastLaunch": false,
    "category": "General purpose",
    "gpuNum": 0,
    "hideHardwareSpecs": false,
    "memoryGiB": 8,
    "name": "ml.m5d.large",
    "vcpuNum": 2
   },
   {
    "_defaultOrder": 13,
    "_isFastLaunch": false,
    "category": "General purpose",
    "gpuNum": 0,
    "hideHardwareSpecs": false,
    "memoryGiB": 16,
    "name": "ml.m5d.xlarge",
    "vcpuNum": 4
   },
   {
    "_defaultOrder": 14,
    "_isFastLaunch": false,
    "category": "General purpose",
    "gpuNum": 0,
    "hideHardwareSpecs": false,
    "memoryGiB": 32,
    "name": "ml.m5d.2xlarge",
    "vcpuNum": 8
   },
   {
    "_defaultOrder": 15,
    "_isFastLaunch": false,
    "category": "General purpose",
    "gpuNum": 0,
    "hideHardwareSpecs": false,
    "memoryGiB": 64,
    "name": "ml.m5d.4xlarge",
    "vcpuNum": 16
   },
   {
    "_defaultOrder": 16,
    "_isFastLaunch": false,
    "category": "General purpose",
    "gpuNum": 0,
    "hideHardwareSpecs": false,
    "memoryGiB": 128,
    "name": "ml.m5d.8xlarge",
    "vcpuNum": 32
   },
   {
    "_defaultOrder": 17,
    "_isFastLaunch": false,
    "category": "General purpose",
    "gpuNum": 0,
    "hideHardwareSpecs": false,
    "memoryGiB": 192,
    "name": "ml.m5d.12xlarge",
    "vcpuNum": 48
   },
   {
    "_defaultOrder": 18,
    "_isFastLaunch": false,
    "category": "General purpose",
    "gpuNum": 0,
    "hideHardwareSpecs": false,
    "memoryGiB": 256,
    "name": "ml.m5d.16xlarge",
    "vcpuNum": 64
   },
   {
    "_defaultOrder": 19,
    "_isFastLaunch": false,
    "category": "General purpose",
    "gpuNum": 0,
    "hideHardwareSpecs": false,
    "memoryGiB": 384,
    "name": "ml.m5d.24xlarge",
    "vcpuNum": 96
   },
   {
    "_defaultOrder": 20,
    "_isFastLaunch": false,
    "category": "General purpose",
    "gpuNum": 0,
    "hideHardwareSpecs": true,
    "memoryGiB": 0,
    "name": "ml.geospatial.interactive",
    "supportedImageNames": [
     "sagemaker-geospatial-v1-0"
    ],
    "vcpuNum": 0
   },
   {
    "_defaultOrder": 21,
    "_isFastLaunch": true,
    "category": "Compute optimized",
    "gpuNum": 0,
    "hideHardwareSpecs": false,
    "memoryGiB": 4,
    "name": "ml.c5.large",
    "vcpuNum": 2
   },
   {
    "_defaultOrder": 22,
    "_isFastLaunch": false,
    "category": "Compute optimized",
    "gpuNum": 0,
    "hideHardwareSpecs": false,
    "memoryGiB": 8,
    "name": "ml.c5.xlarge",
    "vcpuNum": 4
   },
   {
    "_defaultOrder": 23,
    "_isFastLaunch": false,
    "category": "Compute optimized",
    "gpuNum": 0,
    "hideHardwareSpecs": false,
    "memoryGiB": 16,
    "name": "ml.c5.2xlarge",
    "vcpuNum": 8
   },
   {
    "_defaultOrder": 24,
    "_isFastLaunch": false,
    "category": "Compute optimized",
    "gpuNum": 0,
    "hideHardwareSpecs": false,
    "memoryGiB": 32,
    "name": "ml.c5.4xlarge",
    "vcpuNum": 16
   },
   {
    "_defaultOrder": 25,
    "_isFastLaunch": false,
    "category": "Compute optimized",
    "gpuNum": 0,
    "hideHardwareSpecs": false,
    "memoryGiB": 72,
    "name": "ml.c5.9xlarge",
    "vcpuNum": 36
   },
   {
    "_defaultOrder": 26,
    "_isFastLaunch": false,
    "category": "Compute optimized",
    "gpuNum": 0,
    "hideHardwareSpecs": false,
    "memoryGiB": 96,
    "name": "ml.c5.12xlarge",
    "vcpuNum": 48
   },
   {
    "_defaultOrder": 27,
    "_isFastLaunch": false,
    "category": "Compute optimized",
    "gpuNum": 0,
    "hideHardwareSpecs": false,
    "memoryGiB": 144,
    "name": "ml.c5.18xlarge",
    "vcpuNum": 72
   },
   {
    "_defaultOrder": 28,
    "_isFastLaunch": false,
    "category": "Compute optimized",
    "gpuNum": 0,
    "hideHardwareSpecs": false,
    "memoryGiB": 192,
    "name": "ml.c5.24xlarge",
    "vcpuNum": 96
   },
   {
    "_defaultOrder": 29,
    "_isFastLaunch": true,
    "category": "Accelerated computing",
    "gpuNum": 1,
    "hideHardwareSpecs": false,
    "memoryGiB": 16,
    "name": "ml.g4dn.xlarge",
    "vcpuNum": 4
   },
   {
    "_defaultOrder": 30,
    "_isFastLaunch": false,
    "category": "Accelerated computing",
    "gpuNum": 1,
    "hideHardwareSpecs": false,
    "memoryGiB": 32,
    "name": "ml.g4dn.2xlarge",
    "vcpuNum": 8
   },
   {
    "_defaultOrder": 31,
    "_isFastLaunch": false,
    "category": "Accelerated computing",
    "gpuNum": 1,
    "hideHardwareSpecs": false,
    "memoryGiB": 64,
    "name": "ml.g4dn.4xlarge",
    "vcpuNum": 16
   },
   {
    "_defaultOrder": 32,
    "_isFastLaunch": false,
    "category": "Accelerated computing",
    "gpuNum": 1,
    "hideHardwareSpecs": false,
    "memoryGiB": 128,
    "name": "ml.g4dn.8xlarge",
    "vcpuNum": 32
   },
   {
    "_defaultOrder": 33,
    "_isFastLaunch": false,
    "category": "Accelerated computing",
    "gpuNum": 4,
    "hideHardwareSpecs": false,
    "memoryGiB": 192,
    "name": "ml.g4dn.12xlarge",
    "vcpuNum": 48
   },
   {
    "_defaultOrder": 34,
    "_isFastLaunch": false,
    "category": "Accelerated computing",
    "gpuNum": 1,
    "hideHardwareSpecs": false,
    "memoryGiB": 256,
    "name": "ml.g4dn.16xlarge",
    "vcpuNum": 64
   },
   {
    "_defaultOrder": 35,
    "_isFastLaunch": false,
    "category": "Accelerated computing",
    "gpuNum": 1,
    "hideHardwareSpecs": false,
    "memoryGiB": 61,
    "name": "ml.p3.2xlarge",
    "vcpuNum": 8
   },
   {
    "_defaultOrder": 36,
    "_isFastLaunch": false,
    "category": "Accelerated computing",
    "gpuNum": 4,
    "hideHardwareSpecs": false,
    "memoryGiB": 244,
    "name": "ml.p3.8xlarge",
    "vcpuNum": 32
   },
   {
    "_defaultOrder": 37,
    "_isFastLaunch": false,
    "category": "Accelerated computing",
    "gpuNum": 8,
    "hideHardwareSpecs": false,
    "memoryGiB": 488,
    "name": "ml.p3.16xlarge",
    "vcpuNum": 64
   },
   {
    "_defaultOrder": 38,
    "_isFastLaunch": false,
    "category": "Accelerated computing",
    "gpuNum": 8,
    "hideHardwareSpecs": false,
    "memoryGiB": 768,
    "name": "ml.p3dn.24xlarge",
    "vcpuNum": 96
   },
   {
    "_defaultOrder": 39,
    "_isFastLaunch": false,
    "category": "Memory Optimized",
    "gpuNum": 0,
    "hideHardwareSpecs": false,
    "memoryGiB": 16,
    "name": "ml.r5.large",
    "vcpuNum": 2
   },
   {
    "_defaultOrder": 40,
    "_isFastLaunch": false,
    "category": "Memory Optimized",
    "gpuNum": 0,
    "hideHardwareSpecs": false,
    "memoryGiB": 32,
    "name": "ml.r5.xlarge",
    "vcpuNum": 4
   },
   {
    "_defaultOrder": 41,
    "_isFastLaunch": false,
    "category": "Memory Optimized",
    "gpuNum": 0,
    "hideHardwareSpecs": false,
    "memoryGiB": 64,
    "name": "ml.r5.2xlarge",
    "vcpuNum": 8
   },
   {
    "_defaultOrder": 42,
    "_isFastLaunch": false,
    "category": "Memory Optimized",
    "gpuNum": 0,
    "hideHardwareSpecs": false,
    "memoryGiB": 128,
    "name": "ml.r5.4xlarge",
    "vcpuNum": 16
   },
   {
    "_defaultOrder": 43,
    "_isFastLaunch": false,
    "category": "Memory Optimized",
    "gpuNum": 0,
    "hideHardwareSpecs": false,
    "memoryGiB": 256,
    "name": "ml.r5.8xlarge",
    "vcpuNum": 32
   },
   {
    "_defaultOrder": 44,
    "_isFastLaunch": false,
    "category": "Memory Optimized",
    "gpuNum": 0,
    "hideHardwareSpecs": false,
    "memoryGiB": 384,
    "name": "ml.r5.12xlarge",
    "vcpuNum": 48
   },
   {
    "_defaultOrder": 45,
    "_isFastLaunch": false,
    "category": "Memory Optimized",
    "gpuNum": 0,
    "hideHardwareSpecs": false,
    "memoryGiB": 512,
    "name": "ml.r5.16xlarge",
    "vcpuNum": 64
   },
   {
    "_defaultOrder": 46,
    "_isFastLaunch": false,
    "category": "Memory Optimized",
    "gpuNum": 0,
    "hideHardwareSpecs": false,
    "memoryGiB": 768,
    "name": "ml.r5.24xlarge",
    "vcpuNum": 96
   },
   {
    "_defaultOrder": 47,
    "_isFastLaunch": false,
    "category": "Accelerated computing",
    "gpuNum": 1,
    "hideHardwareSpecs": false,
    "memoryGiB": 16,
    "name": "ml.g5.xlarge",
    "vcpuNum": 4
   },
   {
    "_defaultOrder": 48,
    "_isFastLaunch": false,
    "category": "Accelerated computing",
    "gpuNum": 1,
    "hideHardwareSpecs": false,
    "memoryGiB": 32,
    "name": "ml.g5.2xlarge",
    "vcpuNum": 8
   },
   {
    "_defaultOrder": 49,
    "_isFastLaunch": false,
    "category": "Accelerated computing",
    "gpuNum": 1,
    "hideHardwareSpecs": false,
    "memoryGiB": 64,
    "name": "ml.g5.4xlarge",
    "vcpuNum": 16
   },
   {
    "_defaultOrder": 50,
    "_isFastLaunch": false,
    "category": "Accelerated computing",
    "gpuNum": 1,
    "hideHardwareSpecs": false,
    "memoryGiB": 128,
    "name": "ml.g5.8xlarge",
    "vcpuNum": 32
   },
   {
    "_defaultOrder": 51,
    "_isFastLaunch": false,
    "category": "Accelerated computing",
    "gpuNum": 1,
    "hideHardwareSpecs": false,
    "memoryGiB": 256,
    "name": "ml.g5.16xlarge",
    "vcpuNum": 64
   },
   {
    "_defaultOrder": 52,
    "_isFastLaunch": false,
    "category": "Accelerated computing",
    "gpuNum": 4,
    "hideHardwareSpecs": false,
    "memoryGiB": 192,
    "name": "ml.g5.12xlarge",
    "vcpuNum": 48
   },
   {
    "_defaultOrder": 53,
    "_isFastLaunch": false,
    "category": "Accelerated computing",
    "gpuNum": 4,
    "hideHardwareSpecs": false,
    "memoryGiB": 384,
    "name": "ml.g5.24xlarge",
    "vcpuNum": 96
   },
   {
    "_defaultOrder": 54,
    "_isFastLaunch": false,
    "category": "Accelerated computing",
    "gpuNum": 8,
    "hideHardwareSpecs": false,
    "memoryGiB": 768,
    "name": "ml.g5.48xlarge",
    "vcpuNum": 192
   }
  ],
  "instance_type": "ml.t3.medium",
  "kernelspec": {
   "display_name": "Python 3 (MXNet 1.9 Python 3.8 CPU Optimized)",
   "language": "python",
   "name": "python3__SAGEMAKER_INTERNAL__arn:aws:sagemaker:us-east-1:081325390199:image/mxnet-1.9-cpu-py38-ubuntu20.04-sagemaker-v1.0"
  },
  "language_info": {
   "codemirror_mode": {
    "name": "ipython",
    "version": 3
   },
   "file_extension": ".py",
   "mimetype": "text/x-python",
   "name": "python",
   "nbconvert_exporter": "python",
   "pygments_lexer": "ipython3",
   "version": "3.8.10"
  }
 },
 "nbformat": 4,
 "nbformat_minor": 5
}
