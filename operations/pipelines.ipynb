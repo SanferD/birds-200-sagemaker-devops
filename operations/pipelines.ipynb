{
 "cells": [
  {
   "cell_type": "markdown",
   "id": "265f06cb-18a5-4237-8ed9-ccbe976a966a",
   "metadata": {},
   "source": [
    "# Pipelines"
   ]
  },
  {
   "cell_type": "markdown",
   "id": "eac68139-fdb3-47b1-a0e9-adfdbdaa2d7e",
   "metadata": {},
   "source": [
    "## Setup"
   ]
  },
  {
   "cell_type": "markdown",
   "id": "732325ee-aea5-4b38-b8b5-a17233a972ab",
   "metadata": {},
   "source": [
    "### Environment\n",
    "\n",
    "* Base Python3.0\n",
    "* ml.t3.medium\n",
    "* 2 vCPU + 4 GiB"
   ]
  },
  {
   "cell_type": "markdown",
   "id": "f6b530bd-f2c2-483d-9961-b78b16ed333c",
   "metadata": {},
   "source": [
    "### Dependencies"
   ]
  },
  {
   "cell_type": "code",
   "execution_count": 2,
   "id": "451322a9-c5db-4cdc-9e89-a02b46a80ef6",
   "metadata": {
    "tags": []
   },
   "outputs": [
    {
     "name": "stdout",
     "output_type": "stream",
     "text": [
      "Found existing installation: sagemaker 2.157.0\n",
      "Uninstalling sagemaker-2.157.0:\n",
      "  Successfully uninstalled sagemaker-2.157.0\n",
      "\u001b[33mWARNING: Running pip as the 'root' user can result in broken permissions and conflicting behaviour with the system package manager. It is recommended to use a virtual environment instead: https://pip.pypa.io/warnings/venv\u001b[0m\u001b[33m\n",
      "\u001b[0m\u001b[33mWARNING: Skipping sckikit-learn as it is not installed.\u001b[0m\u001b[33m\n",
      "\u001b[0m\u001b[33mWARNING: Running pip as the 'root' user can result in broken permissions and conflicting behaviour with the system package manager. It is recommended to use a virtual environment instead: https://pip.pypa.io/warnings/venv\u001b[0m\u001b[33m\n",
      "\u001b[0m"
     ]
    }
   ],
   "source": [
    "!pip uninstall sagemaker -y\n",
    "!pip uninstall sckikit-learn -y"
   ]
  },
  {
   "cell_type": "code",
   "execution_count": 3,
   "id": "9155299f-61e2-44b9-bfc6-3de4a16f02a6",
   "metadata": {
    "tags": []
   },
   "outputs": [
    {
     "name": "stdout",
     "output_type": "stream",
     "text": [
      "\u001b[33mWARNING: Running pip as the 'root' user can result in broken permissions and conflicting behaviour with the system package manager. It is recommended to use a virtual environment instead: https://pip.pypa.io/warnings/venv\u001b[0m\u001b[33m\n",
      "\u001b[0m\n",
      "\u001b[1m[\u001b[0m\u001b[34;49mnotice\u001b[0m\u001b[1;39;49m]\u001b[0m\u001b[39;49m A new release of pip available: \u001b[0m\u001b[31;49m22.2.2\u001b[0m\u001b[39;49m -> \u001b[0m\u001b[32;49m23.1.2\u001b[0m\n",
      "\u001b[1m[\u001b[0m\u001b[34;49mnotice\u001b[0m\u001b[1;39;49m]\u001b[0m\u001b[39;49m To update, run: \u001b[0m\u001b[32;49mpip install --upgrade pip\u001b[0m\n",
      "\u001b[33mWARNING: Running pip as the 'root' user can result in broken permissions and conflicting behaviour with the system package manager. It is recommended to use a virtual environment instead: https://pip.pypa.io/warnings/venv\u001b[0m\u001b[33m\n",
      "\u001b[0m\n",
      "\u001b[1m[\u001b[0m\u001b[34;49mnotice\u001b[0m\u001b[1;39;49m]\u001b[0m\u001b[39;49m A new release of pip available: \u001b[0m\u001b[31;49m22.2.2\u001b[0m\u001b[39;49m -> \u001b[0m\u001b[32;49m23.1.2\u001b[0m\n",
      "\u001b[1m[\u001b[0m\u001b[34;49mnotice\u001b[0m\u001b[1;39;49m]\u001b[0m\u001b[39;49m To update, run: \u001b[0m\u001b[32;49mpip install --upgrade pip\u001b[0m\n"
     ]
    }
   ],
   "source": [
    "!pip install -q sagemaker\n",
    "!pip install -q -U scikit-learn"
   ]
  },
  {
   "cell_type": "markdown",
   "id": "8dbdcf74-edcd-4c07-b2ca-25ae236c3f75",
   "metadata": {},
   "source": [
    "### Imports"
   ]
  },
  {
   "cell_type": "code",
   "execution_count": 4,
   "id": "a0d1f95b-eba3-4004-98a2-34a6a3bccc16",
   "metadata": {},
   "outputs": [],
   "source": [
    "import json\n",
    "import logging\n",
    "import pathlib\n",
    "\n",
    "import sagemaker\n",
    "import sklearn.model_selection\n",
    "from sagemaker import Session, get_execution_role, image_uris\n",
    "from sagemaker.inputs import TrainingInput\n",
    "from sagemaker.processing import ProcessingInput, ProcessingOutput\n",
    "from sagemaker.sklearn.processing import SKLearnProcessor\n",
    "from sagemaker.transformer import Transformer\n",
    "from sagemaker.workflow.properties import PropertyFile\n",
    "from sagemaker.workflow import pipeline, pipeline_context, parameters, steps\n",
    "from sagemaker.workflow.conditions import ConditionGreaterThanOrEqualTo\n",
    "from sagemaker.workflow.condition_step import ConditionStep, JsonGet\n",
    "from sagemaker.workflow.fail_step import FailStep\n",
    "from sagemaker.workflow.model_step import ModelStep\n",
    "from sagemaker.workflow.steps import (\n",
    "    CreateModelStep,\n",
    "    ProcessingStep,\n",
    "    TrainingStep,\n",
    "    TransformStep,\n",
    ")\n",
    "from sagemaker.workflow.step_collections import RegisterModel\n",
    "from scripts import shared_constants"
   ]
  },
  {
   "cell_type": "markdown",
   "id": "8e3ce4b3-487f-44df-abde-43a0587fcfde",
   "metadata": {},
   "source": [
    "### Define SageMaker session and role"
   ]
  },
  {
   "cell_type": "code",
   "execution_count": 5,
   "id": "34d6f513-c3ea-4f54-9e70-2f5ca9a7deb6",
   "metadata": {},
   "outputs": [],
   "source": [
    "sagemaker_session = Session()\n",
    "role = get_execution_role()"
   ]
  },
  {
   "cell_type": "code",
   "execution_count": 6,
   "id": "b48effc7-b83a-4250-91e1-4515f070ba78",
   "metadata": {
    "tags": []
   },
   "outputs": [
    {
     "name": "stdout",
     "output_type": "stream",
     "text": [
      "2.157.0\n"
     ]
    }
   ],
   "source": [
    "print(sagemaker.__version__) # 2.157.0"
   ]
  },
  {
   "cell_type": "markdown",
   "id": "fe90ec47-ed15-4b01-99a4-830f63d242f8",
   "metadata": {},
   "source": [
    "### Define Constants"
   ]
  },
  {
   "cell_type": "code",
   "execution_count": 7,
   "id": "e08d08f1-112d-42cb-85e2-8924f731cfff",
   "metadata": {},
   "outputs": [],
   "source": [
    "SKLEARN_FRAMEWORK_VERSION = \"1.0-1\"\n",
    "BASE_JOB_NAME = \"birds-200-pipeline\"\n",
    "PIPELINE_NAME = \"Birds200Pipeline\"\n",
    "IS_LOCAL_PIPELINE = False\n",
    "REGION = \"us-east-1\"\n",
    "MAP_THRESHOLD = 0.1"
   ]
  },
  {
   "cell_type": "markdown",
   "id": "0e79342a-6922-4350-8efd-9e9bf9c925f6",
   "metadata": {},
   "source": [
    "## Build Model Pipeline"
   ]
  },
  {
   "cell_type": "markdown",
   "id": "2a991bf7-7282-437d-ad5b-2c7f4459b069",
   "metadata": {},
   "source": [
    "### Parameters"
   ]
  },
  {
   "cell_type": "markdown",
   "id": "66636fa6-b209-438b-bcc4-640db5c812a8",
   "metadata": {
    "tags": []
   },
   "source": [
    "#### Define processing step parameters"
   ]
  },
  {
   "cell_type": "code",
   "execution_count": 8,
   "id": "9f0471c3-30e2-41a9-9cf4-db930a6fb22a",
   "metadata": {
    "tags": []
   },
   "outputs": [],
   "source": [
    "PREPROCESSING_INSTANCE_TYPE = \"PreprocessingInstanceType\"\n",
    "PREPROCESSING_INSTANCE_COUNT = \"PreprocessingInstanceCount\"\n",
    "preprocessing_instance_type = parameters.ParameterString(name=PREPROCESSING_INSTANCE_TYPE, default_value=\"ml.m5.large\")\n",
    "preprocessing_instance_count = parameters.ParameterInteger(name=PREPROCESSING_INSTANCE_COUNT, default_value=1)"
   ]
  },
  {
   "cell_type": "markdown",
   "id": "f7aad16e-2698-4e6d-8f4c-778b0b171a58",
   "metadata": {},
   "source": [
    "#### Define training step parameters"
   ]
  },
  {
   "cell_type": "code",
   "execution_count": 9,
   "id": "ec24e57c-2e17-4eb9-93f1-dee9f866b8f6",
   "metadata": {
    "tags": []
   },
   "outputs": [],
   "source": [
    "TRAINING_INSTANCE_TYPE = \"TrainingInstanceType\"\n",
    "training_instance_type = parameters.ParameterString(name=TRAINING_INSTANCE_TYPE, default_value=\"ml.g4dn.4xlarge\")"
   ]
  },
  {
   "cell_type": "markdown",
   "id": "eed005bb-b159-4723-b1fe-71723bda2ffc",
   "metadata": {},
   "source": [
    "#### Define model step parameters"
   ]
  },
  {
   "cell_type": "code",
   "execution_count": 10,
   "id": "0aa0cdd4-63e8-454f-b215-c4423464428f",
   "metadata": {
    "tags": []
   },
   "outputs": [],
   "source": [
    "MODEL_INSTANCE_TYPE = \"ModelInstanceType\"\n",
    "model_instance_type = parameters.ParameterString(name=MODEL_INSTANCE_TYPE, default_value=\"ml.m5.xlarge\")"
   ]
  },
  {
   "cell_type": "markdown",
   "id": "5e273fa0-7843-4f30-8815-aec9d741a145",
   "metadata": {},
   "source": [
    "#### Define transform step parameters"
   ]
  },
  {
   "cell_type": "code",
   "execution_count": 11,
   "id": "38061743-180f-4811-b4f7-c1620c2988be",
   "metadata": {
    "tags": []
   },
   "outputs": [],
   "source": [
    "TRANSFORM_INSTANCE_TYPE = \"TransformInstanceType\"\n",
    "TRANSFORM_INSTANCE_COUNT = \"TransformInstanceCount\"\n",
    "transform_instance_type = parameters.ParameterString(name=TRANSFORM_INSTANCE_TYPE, default_value=\"ml.m5.large\")\n",
    "transform_instance_count = parameters.ParameterInteger(name=TRANSFORM_INSTANCE_COUNT, default_value=1)"
   ]
  },
  {
   "cell_type": "markdown",
   "id": "9605ab21-7859-4601-94d7-f9cca2a1d1ee",
   "metadata": {},
   "source": [
    "#### Define evaluation step parameters"
   ]
  },
  {
   "cell_type": "code",
   "execution_count": 12,
   "id": "45e2ce4f-6a21-42e6-83f4-3bf4c7b495d0",
   "metadata": {
    "tags": []
   },
   "outputs": [],
   "source": [
    "EVALUATION_INSTANCE_TYPE = \"EvaluationInstanceType\"\n",
    "EVALUATION_INSTANCE_COUNT = \"EvaluationInstanceCount\"\n",
    "evaluation_instance_type = parameters.ParameterString(name=EVALUATION_INSTANCE_TYPE, default_value=\"ml.m5.large\")\n",
    "evaluation_instance_count = parameters.ParameterInteger(name=EVALUATION_INSTANCE_COUNT, default_value=1)"
   ]
  },
  {
   "cell_type": "markdown",
   "id": "64653442-51d1-46a1-a5d5-993c9de875a2",
   "metadata": {},
   "source": [
    "#### Define register model step parameters"
   ]
  },
  {
   "cell_type": "code",
   "execution_count": 13,
   "id": "d6e43522-e65c-40dc-b721-7e982627dfce",
   "metadata": {
    "tags": []
   },
   "outputs": [],
   "source": [
    "INFERENCE_INSTANCE_TYPE = \"InferenceInstanceType\"\n",
    "inference_instance_type = parameters.ParameterString(name=INFERENCE_INSTANCE_TYPE, default_value=\"ml.m5.large\")"
   ]
  },
  {
   "cell_type": "markdown",
   "id": "e750165e-852b-49b2-b4f4-53f9ab4e87b3",
   "metadata": {},
   "source": [
    "### Helpers"
   ]
  },
  {
   "cell_type": "code",
   "execution_count": 14,
   "id": "053de650-46d7-4669-92a5-f4af9c2cdfe6",
   "metadata": {
    "tags": []
   },
   "outputs": [],
   "source": [
    "def generate_step_name(step):\n",
    "    return f\"{PIPELINE_NAME}-{step}\""
   ]
  },
  {
   "cell_type": "markdown",
   "id": "9926ea3f-9689-417b-a027-cfc06d33f2bf",
   "metadata": {},
   "source": [
    "### Pipeline Session\n",
    "\n",
    "Use LocalPipelineSession for initial development. Then when confident with changes, switch to PipelineSession."
   ]
  },
  {
   "cell_type": "code",
   "execution_count": 15,
   "id": "c37490cc-e83a-4c40-aa81-db2b3d08fd92",
   "metadata": {
    "tags": []
   },
   "outputs": [],
   "source": [
    "if IS_LOCAL_PIPELINE:\n",
    "    pipeline_session = sagemaker.workflow.pipeline_context.LocalPipelineSession()\n",
    "else:\n",
    "    pipeline_session = sagemaker.workflow.pipeline_context.PipelineSession()"
   ]
  },
  {
   "cell_type": "markdown",
   "id": "23a9dd0d-09a3-42ab-b362-d880de0a4aba",
   "metadata": {},
   "source": [
    "### Workflow Steps"
   ]
  },
  {
   "cell_type": "markdown",
   "id": "6cd21ac0-6599-4972-881b-36a80dfe427a",
   "metadata": {},
   "source": [
    "#### Processing Step"
   ]
  },
  {
   "cell_type": "markdown",
   "id": "a356d225-b40a-4902-a0df-be188c592da5",
   "metadata": {},
   "source": [
    "##### Define SKLearn processor"
   ]
  },
  {
   "cell_type": "code",
   "execution_count": 16,
   "id": "6b4648bc-847d-4e6a-b05a-beded5a22310",
   "metadata": {
    "tags": []
   },
   "outputs": [
    {
     "name": "stderr",
     "output_type": "stream",
     "text": [
      "The input argument instance_type of function (sagemaker.image_uris.retrieve) is a pipeline variable (<class 'sagemaker.workflow.parameters.ParameterString'>), which is not allowed. The default_value of this Parameter object will be used to override it. Please make sure the default_value is valid.\n"
     ]
    }
   ],
   "source": [
    "preprocessing_sklearn_processor = SKLearnProcessor(\n",
    "    framework_version=SKLEARN_FRAMEWORK_VERSION,\n",
    "    instance_type=preprocessing_instance_type,\n",
    "    instance_count=preprocessing_instance_count,\n",
    "    base_job_name=BASE_JOB_NAME,\n",
    "    role=role,\n",
    "    sagemaker_session=pipeline_session,\n",
    ")"
   ]
  },
  {
   "cell_type": "markdown",
   "id": "5f243ac0-a818-4bee-bb03-246b5498d571",
   "metadata": {},
   "source": [
    "##### Define Preprocessing Step"
   ]
  },
  {
   "cell_type": "code",
   "execution_count": 17,
   "id": "13a91042-ee7f-4b7f-a609-5a5f83917735",
   "metadata": {},
   "outputs": [],
   "source": [
    "preprocessing_step = ProcessingStep(\n",
    "    name=generate_step_name(\"Preprocessing\"),\n",
    "    processor=preprocessing_sklearn_processor,\n",
    "    inputs=[\n",
    "        ProcessingInput(\n",
    "            source=\"./scripts\",\n",
    "            destination=str(shared_constants.INPUT_DIR),\n",
    "            input_name=\"scripts\",\n",
    "        ),\n",
    "    ],\n",
    "    outputs=[\n",
    "        ProcessingOutput(output_name=str(output_name), source=str(source))\n",
    "        for (output_name, source) in [\n",
    "            (shared_constants.TRAIN_CHANNEL, shared_constants.TRAIN_DIR),\n",
    "            (shared_constants.VALIDATION_CHANNEL, shared_constants.VALIDATION_DIR),\n",
    "            (shared_constants.TEST_CHANNEL, shared_constants.TEST_DIR),\n",
    "            (shared_constants.LABELS_CHANNEL, shared_constants.LABELS_DIR),\n",
    "        ]\n",
    "    ],\n",
    "    code=\"./scripts/install_packages.py\",\n",
    ")"
   ]
  },
  {
   "cell_type": "markdown",
   "id": "0fa88e9e-ad09-49f8-8452-aba733f40254",
   "metadata": {
    "tags": []
   },
   "source": [
    "#### Training Step"
   ]
  },
  {
   "cell_type": "markdown",
   "id": "a6a21a5a-a01a-4fa1-9be5-dd90ac4ebb01",
   "metadata": {},
   "source": [
    "I utilize the built-in Docker image and model for object detection. One can also use a custom model within a prebuilt image or deploy a custom image. Here are some helpful resources:\n",
    "* Learn more about training with Amazon SageMaker: [link](https://docs.aws.amazon.com/sagemaker/latest/dg/how-it-works-training.html)\n",
    "* Explore an example of using PyTorch for MNIST classification in SageMaker: [link](https://github.com/aws/amazon-sagemaker-examples/blob/main/sagemaker-python-sdk/pytorch_mnist/pytorch_mnist.ipynb)\n",
    "* Understand Docker containers in SageMaker: [link](https://docs.aws.amazon.com/sagemaker/latest/dg/docker-containers.html)"
   ]
  },
  {
   "cell_type": "markdown",
   "id": "e2d15c06-9f97-4836-9963-83309cda4840",
   "metadata": {},
   "source": [
    "##### Get training image"
   ]
  },
  {
   "cell_type": "code",
   "execution_count": 18,
   "id": "e9b798c2-b8d3-4731-98b1-af84fedafb3e",
   "metadata": {},
   "outputs": [
    {
     "name": "stderr",
     "output_type": "stream",
     "text": [
      "Defaulting to the only supported framework/algorithm version: 1. Ignoring framework/algorithm version: latest.\n"
     ]
    }
   ],
   "source": [
    "training_image = sagemaker.image_uris.retrieve(region=REGION, framework=\"object-detection\", version=\"latest\")"
   ]
  },
  {
   "cell_type": "markdown",
   "id": "534c03af-c13a-4ae8-9de9-b318deb0c6c9",
   "metadata": {},
   "source": [
    "##### Define estimator"
   ]
  },
  {
   "cell_type": "code",
   "execution_count": 19,
   "id": "70f93c57-f741-40c9-96e7-64dfc65838a0",
   "metadata": {},
   "outputs": [],
   "source": [
    "estimator = sagemaker.estimator.Estimator(\n",
    "    training_image,\n",
    "    role,\n",
    "    instance_count=1,\n",
    "    instance_type=training_instance_type,\n",
    "    volume_size=50,\n",
    "    max_run=int(3600*1.5),\n",
    "    input_mode=\"File\",\n",
    "    output_path=shared_constants.S3_OUTPUT_OBJECT_KEY,\n",
    "    sagemaker_session=pipeline_session,\n",
    "    base_job_name=BASE_JOB_NAME,\n",
    ")"
   ]
  },
  {
   "cell_type": "markdown",
   "id": "4893c6a0-92fc-46a8-823c-1cbbbcfff729",
   "metadata": {},
   "source": [
    "For information on object-detection hyperparameters, refer to the documentation at: https://docs.aws.amazon.com/sagemaker/latest/dg/object-detection-api-config.html."
   ]
  },
  {
   "cell_type": "markdown",
   "id": "701ef98d-8229-4f33-a96e-59f75a0c1744",
   "metadata": {},
   "source": [
    "##### Set hyperparameters"
   ]
  },
  {
   "cell_type": "code",
   "execution_count": 20,
   "id": "059e05d8-96c0-436c-813e-f793217fb159",
   "metadata": {
    "tags": []
   },
   "outputs": [],
   "source": [
    "estimator.set_hyperparameters(\n",
    "    num_classes=len(shared_constants.CLASS_IDS),\n",
    "    num_training_samples=shared_constants.NUM_TRAINING_SAMPLES,\n",
    ")"
   ]
  },
  {
   "cell_type": "markdown",
   "id": "5676ec2a-288d-41cb-91e7-9163fc52a574",
   "metadata": {},
   "source": [
    "##### Define estimator inputs"
   ]
  },
  {
   "cell_type": "code",
   "execution_count": 22,
   "id": "01f3faac-04bc-4f55-987a-a797b8a5b644",
   "metadata": {},
   "outputs": [],
   "source": [
    "estimator_inputs = {\n",
    "    \"train\": TrainingInput(\n",
    "        s3_data=preprocessing_step.properties.ProcessingOutputConfig.Outputs[shared_constants.TRAIN_CHANNEL].S3Output.S3Uri,\n",
    "        content_type=\"application/x-recordio\",\n",
    "    ),\n",
    "    \"validation\": TrainingInput(\n",
    "        s3_data=preprocessing_step.properties.ProcessingOutputConfig.Outputs[shared_constants.VALIDATION_CHANNEL].S3Output.S3Uri,\n",
    "        content_type=\"application/x-recordio\",\n",
    "    ),\n",
    "}"
   ]
  },
  {
   "cell_type": "markdown",
   "id": "3b498a11-82b5-4cdf-8cc5-cc80be0bbad7",
   "metadata": {},
   "source": [
    "##### Define training step"
   ]
  },
  {
   "cell_type": "code",
   "execution_count": 23,
   "id": "012e9464-7e24-45ce-9049-c1c240a0693a",
   "metadata": {},
   "outputs": [],
   "source": [
    "training_step = TrainingStep(\n",
    "    name=generate_step_name(\"Training\"),\n",
    "    estimator=estimator,\n",
    "    inputs=estimator_inputs,\n",
    ")"
   ]
  },
  {
   "cell_type": "markdown",
   "id": "f5ed110a-0a41-4bc6-a8fa-f524d6b757a1",
   "metadata": {},
   "source": [
    "#### Model Step"
   ]
  },
  {
   "cell_type": "markdown",
   "id": "341597a8-b5e2-4059-a2e0-7ec1cd67004a",
   "metadata": {},
   "source": [
    "##### Define model from trained estimator data"
   ]
  },
  {
   "cell_type": "code",
   "execution_count": 24,
   "id": "b7746ddb-f31a-459e-ad42-a8c59628a044",
   "metadata": {},
   "outputs": [],
   "source": [
    "model = sagemaker.model.Model(\n",
    "    image_uri=estimator.training_image_uri(),\n",
    "    model_data=training_step.properties.ModelArtifacts.S3ModelArtifacts,\n",
    "    sagemaker_session=pipeline_session,\n",
    "    role=role,\n",
    ")"
   ]
  },
  {
   "cell_type": "markdown",
   "id": "1b27a3f8-e7fd-4951-b9cd-d0b207720ae5",
   "metadata": {},
   "source": [
    "##### Create model step"
   ]
  },
  {
   "cell_type": "code",
   "execution_count": 25,
   "id": "cc028734-a4c1-4448-b2d5-dc50a63f9061",
   "metadata": {
    "tags": []
   },
   "outputs": [
    {
     "name": "stderr",
     "output_type": "stream",
     "text": [
      "/usr/local/lib/python3.10/site-packages/sagemaker/workflow/pipeline_context.py:270: UserWarning: Running within a PipelineSession, there will be No Wait, No Logs, and No Job being started.\n",
      "  warnings.warn(\n"
     ]
    }
   ],
   "source": [
    "model_step = ModelStep(\n",
    "   name=generate_step_name(\"Model\"),\n",
    "   step_args=model.create(instance_type=model_instance_type),\n",
    ")"
   ]
  },
  {
   "cell_type": "markdown",
   "id": "78dc55c0-c3c8-4320-83d1-856a0e44126b",
   "metadata": {},
   "source": [
    "#### Batch Transform step"
   ]
  },
  {
   "cell_type": "markdown",
   "id": "c12ff73b-8f2c-4b9e-8bd4-f80a489d1adf",
   "metadata": {},
   "source": [
    "##### Define transformer"
   ]
  },
  {
   "cell_type": "code",
   "execution_count": 26,
   "id": "99077128-97e7-46d1-a976-3c8b78ded52e",
   "metadata": {},
   "outputs": [],
   "source": [
    "transformer = Transformer(\n",
    "    model_name=model_step.properties.ModelName,\n",
    "    instance_count=transform_instance_count,\n",
    "    instance_type=transform_instance_type,\n",
    "    sagemaker_session=pipeline_session,\n",
    ")"
   ]
  },
  {
   "cell_type": "markdown",
   "id": "4e70d58c-d747-4801-b2bc-9e1177d46101",
   "metadata": {},
   "source": [
    "##### Define transform step"
   ]
  },
  {
   "cell_type": "code",
   "execution_count": 29,
   "id": "6a98c724-eecb-40c4-9a61-059e52bfd2fe",
   "metadata": {},
   "outputs": [],
   "source": [
    "transform_step = TransformStep(\n",
    "    name=generate_step_name(\"Transform\"),\n",
    "    step_args=transformer.transform(\n",
    "        data=preprocessing_step.properties.ProcessingOutputConfig.Outputs[\n",
    "            shared_constants.TEST_CHANNEL\n",
    "        ].S3Output.S3Uri\n",
    "    ),\n",
    ")\n"
   ]
  },
  {
   "cell_type": "markdown",
   "id": "1e131cca-2536-403b-9051-8a5b25f0eb86",
   "metadata": {},
   "source": [
    "#### Evaluation Step"
   ]
  },
  {
   "cell_type": "markdown",
   "id": "badff97a-3da7-4d86-bc7f-5cfac9157ddc",
   "metadata": {},
   "source": [
    "##### Create the SKLearn processor"
   ]
  },
  {
   "cell_type": "code",
   "execution_count": 30,
   "id": "24423395-df4e-4c88-94f5-7d270ad0ba27",
   "metadata": {
    "tags": []
   },
   "outputs": [
    {
     "name": "stderr",
     "output_type": "stream",
     "text": [
      "The input argument instance_type of function (sagemaker.image_uris.retrieve) is a pipeline variable (<class 'sagemaker.workflow.parameters.ParameterString'>), which is not allowed. The default_value of this Parameter object will be used to override it. Please make sure the default_value is valid.\n"
     ]
    }
   ],
   "source": [
    "evaluation_sklearn_processor = sagemaker.sklearn.processing.SKLearnProcessor(\n",
    "    framework_version=SKLEARN_FRAMEWORK_VERSION,\n",
    "    instance_type=evaluation_instance_type,\n",
    "    instance_count=evaluation_instance_count,\n",
    "    base_job_name=BASE_JOB_NAME,\n",
    "    role=role,\n",
    "    sagemaker_session=pipeline_session,\n",
    ")"
   ]
  },
  {
   "cell_type": "markdown",
   "id": "b6de2866-2001-40f2-83ba-f8f1d602666a",
   "metadata": {},
   "source": [
    "##### Create the evaluation step (i.e. the processing step for evaluation)"
   ]
  },
  {
   "cell_type": "code",
   "execution_count": 31,
   "id": "1b7379f0-2e7a-4fe7-beca-3afe2c4f0843",
   "metadata": {
    "tags": []
   },
   "outputs": [],
   "source": [
    "evaluation_report_property_file = PropertyFile(\n",
    "    name=\"EvaluationReport\", output_name=shared_constants.EVALUATION_CHANNEL, path=\"evaluation.json\"\n",
    ")"
   ]
  },
  {
   "cell_type": "code",
   "execution_count": 33,
   "id": "f9596938-c9a6-4c2a-ab40-e044f9d7a6c3",
   "metadata": {
    "tags": []
   },
   "outputs": [],
   "source": [
    "evaluation_step = ProcessingStep(\n",
    "    name=generate_step_name(\"Evaluation\"),\n",
    "    processor=evaluation_sklearn_processor,\n",
    "    inputs=[\n",
    "        ProcessingInput( # A trick that allows imports modules in scripts\n",
    "            source=\"./scripts\",\n",
    "            destination=str(shared_constants.INPUT_DIR),\n",
    "            input_name=\"scripts\",\n",
    "        ),\n",
    "        ProcessingInput(\n",
    "            source=transform_step.properties.TransformOutput.S3OutputPath,\n",
    "            destination=str(shared_constants.TRANSFORM_DIR),\n",
    "        ),\n",
    "        ProcessingInput(\n",
    "            source=preprocessing_step.properties.ProcessingOutputConfig.Outputs[shared_constants.LABELS_CHANNEL].S3Output.S3Uri,\n",
    "            destination=str(shared_constants.LABELS_DIR),\n",
    "        ),\n",
    "    ],\n",
    "    outputs=[\n",
    "        ProcessingOutput(\n",
    "            output_name=shared_constants.EVALUATION_CHANNEL,\n",
    "            source=str(shared_constants.EVALUATION_DIR),\n",
    "        )\n",
    "    ],\n",
    "    code='scripts/evaluate.py',\n",
    "    property_files=[evaluation_report_property_file],\n",
    ")"
   ]
  },
  {
   "cell_type": "markdown",
   "id": "590e1baf-5054-4aa6-abaf-120ef656679f",
   "metadata": {},
   "source": [
    "#### Register Model Step"
   ]
  },
  {
   "cell_type": "code",
   "execution_count": 34,
   "id": "48baad99-b33f-4283-b763-84e3accea35d",
   "metadata": {
    "tags": []
   },
   "outputs": [],
   "source": [
    "register_step = RegisterModel(\n",
    "    name=generate_step_name(\"RegisterModel\"),\n",
    "    model=model,\n",
    "    content_types=[\"image/jpeg\", \"image/png\"],\n",
    "    response_types=[\"application/json\"],\n",
    "    inference_instances=[inference_instance_type],\n",
    "    transform_instances=[transform_instance_type]\n",
    ")"
   ]
  },
  {
   "cell_type": "markdown",
   "id": "527136ca-cbd5-4b9f-a820-8b2de0b114dc",
   "metadata": {},
   "source": [
    "#### Create Model Step"
   ]
  },
  {
   "cell_type": "code",
   "execution_count": 35,
   "id": "e12ad788-3258-41c7-936f-243e41cd8d61",
   "metadata": {
    "tags": []
   },
   "outputs": [],
   "source": [
    "create_model_step = CreateModelStep(\n",
    "    name=generate_step_name(\"CreateModel\"),\n",
    "    model=model,\n",
    ")"
   ]
  },
  {
   "cell_type": "markdown",
   "id": "d15b456c-6d1e-4597-b53e-783f0c55ebb2",
   "metadata": {},
   "source": [
    "#### Fail Step"
   ]
  },
  {
   "cell_type": "code",
   "execution_count": 36,
   "id": "202d9f19-0faf-4d69-8ea9-164b2a654735",
   "metadata": {},
   "outputs": [],
   "source": [
    "fail_step = FailStep(\n",
    "    name=generate_step_name(\"Fail\"),\n",
    "    error_message=f\"Execution failured due to mAP score < {MAP_THRESHOLD}\",\n",
    ")"
   ]
  },
  {
   "cell_type": "markdown",
   "id": "6470d043-114a-419d-92ea-f3b8938b71bf",
   "metadata": {},
   "source": [
    "#### Condition Step"
   ]
  },
  {
   "cell_type": "code",
   "execution_count": 37,
   "id": "5112846e-9f56-4426-92d8-ddc2aa47888d",
   "metadata": {
    "tags": []
   },
   "outputs": [
    {
     "name": "stderr",
     "output_type": "stream",
     "text": [
      "The class JsonGet has been renamed in sagemaker>=2.\n",
      "See: https://sagemaker.readthedocs.io/en/stable/v2.html for details.\n"
     ]
    }
   ],
   "source": [
    "cond_map_score = ConditionGreaterThanOrEqualTo(\n",
    "    left=JsonGet(\n",
    "        step=evaluation_step,\n",
    "        property_file=evaluation_report_property_file,\n",
    "        json_path=\"map\"\n",
    "    ),\n",
    "    right=MAP_THRESHOLD,\n",
    ")"
   ]
  },
  {
   "cell_type": "code",
   "execution_count": 38,
   "id": "23c334cc-f7bc-46dd-aed9-3d4e24a77b53",
   "metadata": {
    "tags": []
   },
   "outputs": [],
   "source": [
    "condition_step = ConditionStep(\n",
    "    name=generate_step_name(\"CheckMapScore\"),\n",
    "    conditions=[cond_map_score],\n",
    "    if_steps=[register_step, create_model_step],\n",
    "    else_steps=[fail_step],\n",
    ")"
   ]
  },
  {
   "cell_type": "markdown",
   "id": "2649c552-5172-4503-b948-fc1677e1d955",
   "metadata": {},
   "source": [
    "### Create the Pipeline"
   ]
  },
  {
   "cell_type": "code",
   "execution_count": 39,
   "id": "90ca3cfe-eb4f-43af-a10a-9d6f16b8da63",
   "metadata": {
    "tags": []
   },
   "outputs": [],
   "source": [
    "pipeline = sagemaker.workflow.pipeline.Pipeline(\n",
    "    name=PIPELINE_NAME,\n",
    "    parameters=[\n",
    "        preprocessing_instance_type,\n",
    "        preprocessing_instance_count,\n",
    "        training_instance_type,\n",
    "        model_instance_type,\n",
    "        transform_instance_type,\n",
    "        transform_instance_count,\n",
    "        evaluation_instance_type,\n",
    "        evaluation_instance_count,\n",
    "        inference_instance_type,\n",
    "    ],\n",
    "    steps=[\n",
    "        preprocessing_step,\n",
    "        training_step,\n",
    "        model_step,\n",
    "        transform_step,\n",
    "        evaluation_step,\n",
    "        condition_step\n",
    "    ],\n",
    "    sagemaker_session=pipeline_session,\n",
    ")"
   ]
  },
  {
   "cell_type": "markdown",
   "id": "c45db4c8-fed8-45b8-9914-c0ca3d41cca8",
   "metadata": {},
   "source": [
    "#### Inspect the Pipeline Definition"
   ]
  },
  {
   "cell_type": "code",
   "execution_count": 40,
   "id": "513f3dcf-68f8-4aab-a39c-6d7c4280ed30",
   "metadata": {
    "tags": []
   },
   "outputs": [
    {
     "name": "stderr",
     "output_type": "stream",
     "text": [
      "WARNING:sagemaker.workflow._utils:Popping out 'CertifyForMarketplace' from the pipeline definition since it will be overridden in pipeline execution time.\n"
     ]
    },
    {
     "data": {
      "text/plain": [
       "{'Version': '2020-12-01',\n",
       " 'Metadata': {},\n",
       " 'Parameters': [{'Name': 'PreprocessingInstanceType',\n",
       "   'Type': 'String',\n",
       "   'DefaultValue': 'ml.m5.large'},\n",
       "  {'Name': 'PreprocessingInstanceCount', 'Type': 'Integer', 'DefaultValue': 1},\n",
       "  {'Name': 'TrainingInstanceType',\n",
       "   'Type': 'String',\n",
       "   'DefaultValue': 'ml.g4dn.4xlarge'},\n",
       "  {'Name': 'ModelInstanceType',\n",
       "   'Type': 'String',\n",
       "   'DefaultValue': 'ml.m5.xlarge'},\n",
       "  {'Name': 'TransformInstanceType',\n",
       "   'Type': 'String',\n",
       "   'DefaultValue': 'ml.m5.large'},\n",
       "  {'Name': 'TransformInstanceCount', 'Type': 'Integer', 'DefaultValue': 1},\n",
       "  {'Name': 'EvaluationInstanceType',\n",
       "   'Type': 'String',\n",
       "   'DefaultValue': 'ml.m5.large'},\n",
       "  {'Name': 'EvaluationInstanceCount', 'Type': 'Integer', 'DefaultValue': 1},\n",
       "  {'Name': 'InferenceInstanceType',\n",
       "   'Type': 'String',\n",
       "   'DefaultValue': 'ml.m5.large'}],\n",
       " 'PipelineExperimentConfig': {'ExperimentName': {'Get': 'Execution.PipelineName'},\n",
       "  'TrialName': {'Get': 'Execution.PipelineExecutionId'}},\n",
       " 'Steps': [{'Name': 'Birds200Pipeline-Preprocessing',\n",
       "   'Type': 'Processing',\n",
       "   'Arguments': {'ProcessingResources': {'ClusterConfig': {'InstanceType': {'Get': 'Parameters.PreprocessingInstanceType'},\n",
       "      'InstanceCount': {'Get': 'Parameters.PreprocessingInstanceCount'},\n",
       "      'VolumeSizeInGB': 30}},\n",
       "    'AppSpecification': {'ImageUri': '683313688378.dkr.ecr.us-east-1.amazonaws.com/sagemaker-scikit-learn:1.0-1-cpu-py3',\n",
       "     'ContainerEntrypoint': ['python3',\n",
       "      '/opt/ml/processing/input/code/install_packages.py']},\n",
       "    'RoleArn': 'arn:aws:iam::180797159824:role/service-role/AmazonSageMaker-ExecutionRole-20230508T082247',\n",
       "    'ProcessingInputs': [{'InputName': 'scripts',\n",
       "      'AppManaged': False,\n",
       "      'S3Input': {'S3Uri': 's3://sagemaker-us-east-1-180797159824/Birds200Pipeline/Birds200Pipeline-Preprocessing/input/scripts',\n",
       "       'LocalPath': '/home/sagemaker-user/opt/ml/processing/input',\n",
       "       'S3DataType': 'S3Prefix',\n",
       "       'S3InputMode': 'File',\n",
       "       'S3DataDistributionType': 'FullyReplicated',\n",
       "       'S3CompressionType': 'None'}},\n",
       "     {'InputName': 'code',\n",
       "      'AppManaged': False,\n",
       "      'S3Input': {'S3Uri': 's3://sagemaker-us-east-1-180797159824/Birds200Pipeline-Preprocessing-6e6067763b4aaf202d8f2bb057c49b85/input/code/install_packages.py',\n",
       "       'LocalPath': '/opt/ml/processing/input/code',\n",
       "       'S3DataType': 'S3Prefix',\n",
       "       'S3InputMode': 'File',\n",
       "       'S3DataDistributionType': 'FullyReplicated',\n",
       "       'S3CompressionType': 'None'}}],\n",
       "    'ProcessingOutputConfig': {'Outputs': [{'OutputName': 'train',\n",
       "       'AppManaged': False,\n",
       "       'S3Output': {'S3Uri': {'Std:Join': {'On': '/',\n",
       "          'Values': ['s3:/',\n",
       "           'sagemaker-us-east-1-180797159824',\n",
       "           'Birds200Pipeline',\n",
       "           {'Get': 'Execution.PipelineExecutionId'},\n",
       "           'Birds200Pipeline-Preprocessing',\n",
       "           'output',\n",
       "           'train']}},\n",
       "        'LocalPath': '/home/sagemaker-user/opt/ml/processing/train',\n",
       "        'S3UploadMode': 'EndOfJob'}},\n",
       "      {'OutputName': 'val',\n",
       "       'AppManaged': False,\n",
       "       'S3Output': {'S3Uri': {'Std:Join': {'On': '/',\n",
       "          'Values': ['s3:/',\n",
       "           'sagemaker-us-east-1-180797159824',\n",
       "           'Birds200Pipeline',\n",
       "           {'Get': 'Execution.PipelineExecutionId'},\n",
       "           'Birds200Pipeline-Preprocessing',\n",
       "           'output',\n",
       "           'val']}},\n",
       "        'LocalPath': '/home/sagemaker-user/opt/ml/processing/val',\n",
       "        'S3UploadMode': 'EndOfJob'}},\n",
       "      {'OutputName': 'test',\n",
       "       'AppManaged': False,\n",
       "       'S3Output': {'S3Uri': {'Std:Join': {'On': '/',\n",
       "          'Values': ['s3:/',\n",
       "           'sagemaker-us-east-1-180797159824',\n",
       "           'Birds200Pipeline',\n",
       "           {'Get': 'Execution.PipelineExecutionId'},\n",
       "           'Birds200Pipeline-Preprocessing',\n",
       "           'output',\n",
       "           'test']}},\n",
       "        'LocalPath': '/home/sagemaker-user/opt/ml/processing/test',\n",
       "        'S3UploadMode': 'EndOfJob'}},\n",
       "      {'OutputName': 'labels',\n",
       "       'AppManaged': False,\n",
       "       'S3Output': {'S3Uri': {'Std:Join': {'On': '/',\n",
       "          'Values': ['s3:/',\n",
       "           'sagemaker-us-east-1-180797159824',\n",
       "           'Birds200Pipeline',\n",
       "           {'Get': 'Execution.PipelineExecutionId'},\n",
       "           'Birds200Pipeline-Preprocessing',\n",
       "           'output',\n",
       "           'labels']}},\n",
       "        'LocalPath': '/home/sagemaker-user/opt/ml/processing/labels',\n",
       "        'S3UploadMode': 'EndOfJob'}}]}}},\n",
       "  {'Name': 'Birds200Pipeline-Training',\n",
       "   'Type': 'Training',\n",
       "   'Arguments': {'AlgorithmSpecification': {'TrainingInputMode': 'File',\n",
       "     'TrainingImage': '811284229777.dkr.ecr.us-east-1.amazonaws.com/object-detection:1'},\n",
       "    'OutputDataConfig': {'S3OutputPath': 's3://sagemaker-us-east-1-180797159824/output'},\n",
       "    'StoppingCondition': {'MaxRuntimeInSeconds': 5400},\n",
       "    'ResourceConfig': {'VolumeSizeInGB': 50,\n",
       "     'InstanceCount': 1,\n",
       "     'InstanceType': {'Get': 'Parameters.TrainingInstanceType'}},\n",
       "    'RoleArn': 'arn:aws:iam::180797159824:role/service-role/AmazonSageMaker-ExecutionRole-20230508T082247',\n",
       "    'InputDataConfig': [{'DataSource': {'S3DataSource': {'S3DataType': 'S3Prefix',\n",
       "        'S3Uri': {'Get': \"Steps.Birds200Pipeline-Preprocessing.ProcessingOutputConfig.Outputs['train'].S3Output.S3Uri\"},\n",
       "        'S3DataDistributionType': 'FullyReplicated'}},\n",
       "      'ContentType': 'application/x-recordio',\n",
       "      'ChannelName': 'train'},\n",
       "     {'DataSource': {'S3DataSource': {'S3DataType': 'S3Prefix',\n",
       "        'S3Uri': {'Get': \"Steps.Birds200Pipeline-Preprocessing.ProcessingOutputConfig.Outputs['val'].S3Output.S3Uri\"},\n",
       "        'S3DataDistributionType': 'FullyReplicated'}},\n",
       "      'ContentType': 'application/x-recordio',\n",
       "      'ChannelName': 'validation'}],\n",
       "    'HyperParameters': {'num_classes': '5', 'num_training_samples': '209'},\n",
       "    'DebugHookConfig': {'S3OutputPath': 's3://sagemaker-us-east-1-180797159824/output',\n",
       "     'CollectionConfigurations': []},\n",
       "    'ProfilerConfig': {'S3OutputPath': 's3://sagemaker-us-east-1-180797159824/output',\n",
       "     'DisableProfiler': False}}},\n",
       "  {'Name': 'Birds200Pipeline-Model-CreateModel',\n",
       "   'Type': 'Model',\n",
       "   'Arguments': {'ExecutionRoleArn': 'arn:aws:iam::180797159824:role/service-role/AmazonSageMaker-ExecutionRole-20230508T082247',\n",
       "    'PrimaryContainer': {'Image': '811284229777.dkr.ecr.us-east-1.amazonaws.com/object-detection:1',\n",
       "     'Environment': {},\n",
       "     'ModelDataUrl': {'Get': 'Steps.Birds200Pipeline-Training.ModelArtifacts.S3ModelArtifacts'}}}},\n",
       "  {'Name': 'Birds200Pipeline-Transform',\n",
       "   'Type': 'Transform',\n",
       "   'Arguments': {'ModelName': {'Get': 'Steps.Birds200Pipeline-Model-CreateModel.ModelName'},\n",
       "    'TransformInput': {'DataSource': {'S3DataSource': {'S3DataType': 'S3Prefix',\n",
       "       'S3Uri': {'Get': \"Steps.Birds200Pipeline-Preprocessing.ProcessingOutputConfig.Outputs['test'].S3Output.S3Uri\"}}}},\n",
       "    'TransformOutput': {'S3OutputPath': {'Std:Join': {'On': '/',\n",
       "       'Values': ['s3:/',\n",
       "        'sagemaker-us-east-1-180797159824',\n",
       "        'Birds200Pipeline',\n",
       "        {'Get': 'Execution.PipelineExecutionId'},\n",
       "        'Birds200Pipeline-Transform']}}},\n",
       "    'TransformResources': {'InstanceCount': {'Get': 'Parameters.TransformInstanceCount'},\n",
       "     'InstanceType': {'Get': 'Parameters.TransformInstanceType'}}}},\n",
       "  {'Name': 'Birds200Pipeline-Evaluation',\n",
       "   'Type': 'Processing',\n",
       "   'Arguments': {'ProcessingResources': {'ClusterConfig': {'InstanceType': {'Get': 'Parameters.EvaluationInstanceType'},\n",
       "      'InstanceCount': {'Get': 'Parameters.EvaluationInstanceCount'},\n",
       "      'VolumeSizeInGB': 30}},\n",
       "    'AppSpecification': {'ImageUri': '683313688378.dkr.ecr.us-east-1.amazonaws.com/sagemaker-scikit-learn:1.0-1-cpu-py3',\n",
       "     'ContainerEntrypoint': ['python3',\n",
       "      '/opt/ml/processing/input/code/evaluate.py']},\n",
       "    'RoleArn': 'arn:aws:iam::180797159824:role/service-role/AmazonSageMaker-ExecutionRole-20230508T082247',\n",
       "    'ProcessingInputs': [{'InputName': 'scripts',\n",
       "      'AppManaged': False,\n",
       "      'S3Input': {'S3Uri': 's3://sagemaker-us-east-1-180797159824/Birds200Pipeline/Birds200Pipeline-Evaluation/input/scripts',\n",
       "       'LocalPath': '/home/sagemaker-user/opt/ml/processing/input',\n",
       "       'S3DataType': 'S3Prefix',\n",
       "       'S3InputMode': 'File',\n",
       "       'S3DataDistributionType': 'FullyReplicated',\n",
       "       'S3CompressionType': 'None'}},\n",
       "     {'InputName': 'input-2',\n",
       "      'AppManaged': False,\n",
       "      'S3Input': {'S3Uri': {'Get': 'Steps.Birds200Pipeline-Transform.TransformOutput.S3OutputPath'},\n",
       "       'LocalPath': '/home/sagemaker-user/opt/ml/processing/transform',\n",
       "       'S3DataType': 'S3Prefix',\n",
       "       'S3InputMode': 'File',\n",
       "       'S3DataDistributionType': 'FullyReplicated',\n",
       "       'S3CompressionType': 'None'}},\n",
       "     {'InputName': 'input-3',\n",
       "      'AppManaged': False,\n",
       "      'S3Input': {'S3Uri': {'Get': \"Steps.Birds200Pipeline-Preprocessing.ProcessingOutputConfig.Outputs['labels'].S3Output.S3Uri\"},\n",
       "       'LocalPath': '/home/sagemaker-user/opt/ml/processing/labels',\n",
       "       'S3DataType': 'S3Prefix',\n",
       "       'S3InputMode': 'File',\n",
       "       'S3DataDistributionType': 'FullyReplicated',\n",
       "       'S3CompressionType': 'None'}},\n",
       "     {'InputName': 'code',\n",
       "      'AppManaged': False,\n",
       "      'S3Input': {'S3Uri': 's3://sagemaker-us-east-1-180797159824/Birds200Pipeline-Evaluation-143d68f98c2189523d62076bacf0798c/input/code/evaluate.py',\n",
       "       'LocalPath': '/opt/ml/processing/input/code',\n",
       "       'S3DataType': 'S3Prefix',\n",
       "       'S3InputMode': 'File',\n",
       "       'S3DataDistributionType': 'FullyReplicated',\n",
       "       'S3CompressionType': 'None'}}],\n",
       "    'ProcessingOutputConfig': {'Outputs': [{'OutputName': 'evaluation',\n",
       "       'AppManaged': False,\n",
       "       'S3Output': {'S3Uri': {'Std:Join': {'On': '/',\n",
       "          'Values': ['s3:/',\n",
       "           'sagemaker-us-east-1-180797159824',\n",
       "           'Birds200Pipeline',\n",
       "           {'Get': 'Execution.PipelineExecutionId'},\n",
       "           'Birds200Pipeline-Evaluation',\n",
       "           'output',\n",
       "           'evaluation']}},\n",
       "        'LocalPath': '/home/sagemaker-user/opt/ml/processing/evaluation',\n",
       "        'S3UploadMode': 'EndOfJob'}}]}},\n",
       "   'PropertyFiles': [{'PropertyFileName': 'EvaluationReport',\n",
       "     'OutputName': 'evaluation',\n",
       "     'FilePath': 'evaluation.json'}]},\n",
       "  {'Name': 'Birds200Pipeline-CheckMapScore',\n",
       "   'Type': 'Condition',\n",
       "   'Arguments': {'Conditions': [{'Type': 'GreaterThanOrEqualTo',\n",
       "      'LeftValue': {'Std:JsonGet': {'PropertyFile': {'Get': 'Steps.Birds200Pipeline-Evaluation.PropertyFiles.EvaluationReport'},\n",
       "        'Path': 'map'}},\n",
       "      'RightValue': 0.1}],\n",
       "    'IfSteps': [{'Name': 'Birds200Pipeline-RegisterModel-RegisterModel',\n",
       "      'Type': 'RegisterModel',\n",
       "      'Arguments': {'InferenceSpecification': {'Containers': [{'Image': '811284229777.dkr.ecr.us-east-1.amazonaws.com/object-detection:1',\n",
       "          'Environment': {},\n",
       "          'ModelDataUrl': {'Get': 'Steps.Birds200Pipeline-Training.ModelArtifacts.S3ModelArtifacts'}}],\n",
       "        'SupportedContentTypes': ['image/jpeg', 'image/png'],\n",
       "        'SupportedResponseMIMETypes': ['application/json'],\n",
       "        'SupportedRealtimeInferenceInstanceTypes': [{'Get': 'Parameters.InferenceInstanceType'}],\n",
       "        'SupportedTransformInstanceTypes': [{'Get': 'Parameters.TransformInstanceType'}]},\n",
       "       'ModelApprovalStatus': 'PendingManualApproval'}},\n",
       "     {'Name': 'Birds200Pipeline-CreateModel',\n",
       "      'Type': 'Model',\n",
       "      'Arguments': {'ExecutionRoleArn': 'arn:aws:iam::180797159824:role/service-role/AmazonSageMaker-ExecutionRole-20230508T082247',\n",
       "       'PrimaryContainer': {'Image': '811284229777.dkr.ecr.us-east-1.amazonaws.com/object-detection:1',\n",
       "        'Environment': {},\n",
       "        'ModelDataUrl': {'Get': 'Steps.Birds200Pipeline-Training.ModelArtifacts.S3ModelArtifacts'}}}}],\n",
       "    'ElseSteps': [{'Name': 'Birds200Pipeline-Fail',\n",
       "      'Type': 'Fail',\n",
       "      'Arguments': {'ErrorMessage': 'Execution failured due to mAP score < 0.1'}}]}}]}"
      ]
     },
     "execution_count": 40,
     "metadata": {},
     "output_type": "execute_result"
    }
   ],
   "source": [
    "json.loads(pipeline.definition())"
   ]
  },
  {
   "cell_type": "markdown",
   "id": "c557f41f-ffbc-43c7-9bd3-208621a9100f",
   "metadata": {},
   "source": [
    "### Build the Pipeline"
   ]
  },
  {
   "cell_type": "code",
   "execution_count": 41,
   "id": "758e1a5e-8f11-4796-b265-7cab9fbbdbd1",
   "metadata": {
    "tags": []
   },
   "outputs": [
    {
     "name": "stderr",
     "output_type": "stream",
     "text": [
      "WARNING:sagemaker.workflow._utils:Popping out 'CertifyForMarketplace' from the pipeline definition since it will be overridden in pipeline execution time.\n",
      "WARNING:sagemaker.workflow._utils:Popping out 'CertifyForMarketplace' from the pipeline definition since it will be overridden in pipeline execution time.\n"
     ]
    },
    {
     "data": {
      "text/plain": [
       "{'PipelineArn': 'arn:aws:sagemaker:us-east-1:180797159824:pipeline/birds200pipeline',\n",
       " 'ResponseMetadata': {'RequestId': '595a35f6-1488-4065-a345-95cc555d1cc8',\n",
       "  'HTTPStatusCode': 200,\n",
       "  'HTTPHeaders': {'x-amzn-requestid': '595a35f6-1488-4065-a345-95cc555d1cc8',\n",
       "   'content-type': 'application/x-amz-json-1.1',\n",
       "   'content-length': '84',\n",
       "   'date': 'Thu, 18 May 2023 20:49:58 GMT'},\n",
       "  'RetryAttempts': 0}}"
      ]
     },
     "execution_count": 41,
     "metadata": {},
     "output_type": "execute_result"
    }
   ],
   "source": [
    "pipeline.upsert(role_arn=role)"
   ]
  },
  {
   "cell_type": "code",
   "execution_count": 42,
   "id": "887bbe71-ac7e-4a06-9eff-1f494d2445fe",
   "metadata": {
    "tags": []
   },
   "outputs": [],
   "source": [
    "execution = pipeline.start()"
   ]
  },
  {
   "cell_type": "code",
   "execution_count": null,
   "id": "94880d67-39cb-47b0-92c6-299975bd46c2",
   "metadata": {
    "tags": []
   },
   "outputs": [],
   "source": [
    "execution.wait()"
   ]
  },
  {
   "cell_type": "code",
   "execution_count": null,
   "id": "70c7d7a0-3da9-4d77-927f-921abda2c384",
   "metadata": {},
   "outputs": [],
   "source": [
    "execution.list_steps()"
   ]
  },
  {
   "cell_type": "code",
   "execution_count": null,
   "id": "e45fb58f-8113-401e-a3d3-9e5bddd75346",
   "metadata": {},
   "outputs": [],
   "source": []
  }
 ],
 "metadata": {
  "availableInstances": [
   {
    "_defaultOrder": 0,
    "_isFastLaunch": true,
    "category": "General purpose",
    "gpuNum": 0,
    "hideHardwareSpecs": false,
    "memoryGiB": 4,
    "name": "ml.t3.medium",
    "vcpuNum": 2
   },
   {
    "_defaultOrder": 1,
    "_isFastLaunch": false,
    "category": "General purpose",
    "gpuNum": 0,
    "hideHardwareSpecs": false,
    "memoryGiB": 8,
    "name": "ml.t3.large",
    "vcpuNum": 2
   },
   {
    "_defaultOrder": 2,
    "_isFastLaunch": false,
    "category": "General purpose",
    "gpuNum": 0,
    "hideHardwareSpecs": false,
    "memoryGiB": 16,
    "name": "ml.t3.xlarge",
    "vcpuNum": 4
   },
   {
    "_defaultOrder": 3,
    "_isFastLaunch": false,
    "category": "General purpose",
    "gpuNum": 0,
    "hideHardwareSpecs": false,
    "memoryGiB": 32,
    "name": "ml.t3.2xlarge",
    "vcpuNum": 8
   },
   {
    "_defaultOrder": 4,
    "_isFastLaunch": true,
    "category": "General purpose",
    "gpuNum": 0,
    "hideHardwareSpecs": false,
    "memoryGiB": 8,
    "name": "ml.m5.large",
    "vcpuNum": 2
   },
   {
    "_defaultOrder": 5,
    "_isFastLaunch": false,
    "category": "General purpose",
    "gpuNum": 0,
    "hideHardwareSpecs": false,
    "memoryGiB": 16,
    "name": "ml.m5.xlarge",
    "vcpuNum": 4
   },
   {
    "_defaultOrder": 6,
    "_isFastLaunch": false,
    "category": "General purpose",
    "gpuNum": 0,
    "hideHardwareSpecs": false,
    "memoryGiB": 32,
    "name": "ml.m5.2xlarge",
    "vcpuNum": 8
   },
   {
    "_defaultOrder": 7,
    "_isFastLaunch": false,
    "category": "General purpose",
    "gpuNum": 0,
    "hideHardwareSpecs": false,
    "memoryGiB": 64,
    "name": "ml.m5.4xlarge",
    "vcpuNum": 16
   },
   {
    "_defaultOrder": 8,
    "_isFastLaunch": false,
    "category": "General purpose",
    "gpuNum": 0,
    "hideHardwareSpecs": false,
    "memoryGiB": 128,
    "name": "ml.m5.8xlarge",
    "vcpuNum": 32
   },
   {
    "_defaultOrder": 9,
    "_isFastLaunch": false,
    "category": "General purpose",
    "gpuNum": 0,
    "hideHardwareSpecs": false,
    "memoryGiB": 192,
    "name": "ml.m5.12xlarge",
    "vcpuNum": 48
   },
   {
    "_defaultOrder": 10,
    "_isFastLaunch": false,
    "category": "General purpose",
    "gpuNum": 0,
    "hideHardwareSpecs": false,
    "memoryGiB": 256,
    "name": "ml.m5.16xlarge",
    "vcpuNum": 64
   },
   {
    "_defaultOrder": 11,
    "_isFastLaunch": false,
    "category": "General purpose",
    "gpuNum": 0,
    "hideHardwareSpecs": false,
    "memoryGiB": 384,
    "name": "ml.m5.24xlarge",
    "vcpuNum": 96
   },
   {
    "_defaultOrder": 12,
    "_isFastLaunch": false,
    "category": "General purpose",
    "gpuNum": 0,
    "hideHardwareSpecs": false,
    "memoryGiB": 8,
    "name": "ml.m5d.large",
    "vcpuNum": 2
   },
   {
    "_defaultOrder": 13,
    "_isFastLaunch": false,
    "category": "General purpose",
    "gpuNum": 0,
    "hideHardwareSpecs": false,
    "memoryGiB": 16,
    "name": "ml.m5d.xlarge",
    "vcpuNum": 4
   },
   {
    "_defaultOrder": 14,
    "_isFastLaunch": false,
    "category": "General purpose",
    "gpuNum": 0,
    "hideHardwareSpecs": false,
    "memoryGiB": 32,
    "name": "ml.m5d.2xlarge",
    "vcpuNum": 8
   },
   {
    "_defaultOrder": 15,
    "_isFastLaunch": false,
    "category": "General purpose",
    "gpuNum": 0,
    "hideHardwareSpecs": false,
    "memoryGiB": 64,
    "name": "ml.m5d.4xlarge",
    "vcpuNum": 16
   },
   {
    "_defaultOrder": 16,
    "_isFastLaunch": false,
    "category": "General purpose",
    "gpuNum": 0,
    "hideHardwareSpecs": false,
    "memoryGiB": 128,
    "name": "ml.m5d.8xlarge",
    "vcpuNum": 32
   },
   {
    "_defaultOrder": 17,
    "_isFastLaunch": false,
    "category": "General purpose",
    "gpuNum": 0,
    "hideHardwareSpecs": false,
    "memoryGiB": 192,
    "name": "ml.m5d.12xlarge",
    "vcpuNum": 48
   },
   {
    "_defaultOrder": 18,
    "_isFastLaunch": false,
    "category": "General purpose",
    "gpuNum": 0,
    "hideHardwareSpecs": false,
    "memoryGiB": 256,
    "name": "ml.m5d.16xlarge",
    "vcpuNum": 64
   },
   {
    "_defaultOrder": 19,
    "_isFastLaunch": false,
    "category": "General purpose",
    "gpuNum": 0,
    "hideHardwareSpecs": false,
    "memoryGiB": 384,
    "name": "ml.m5d.24xlarge",
    "vcpuNum": 96
   },
   {
    "_defaultOrder": 20,
    "_isFastLaunch": false,
    "category": "General purpose",
    "gpuNum": 0,
    "hideHardwareSpecs": true,
    "memoryGiB": 0,
    "name": "ml.geospatial.interactive",
    "supportedImageNames": [
     "sagemaker-geospatial-v1-0"
    ],
    "vcpuNum": 0
   },
   {
    "_defaultOrder": 21,
    "_isFastLaunch": true,
    "category": "Compute optimized",
    "gpuNum": 0,
    "hideHardwareSpecs": false,
    "memoryGiB": 4,
    "name": "ml.c5.large",
    "vcpuNum": 2
   },
   {
    "_defaultOrder": 22,
    "_isFastLaunch": false,
    "category": "Compute optimized",
    "gpuNum": 0,
    "hideHardwareSpecs": false,
    "memoryGiB": 8,
    "name": "ml.c5.xlarge",
    "vcpuNum": 4
   },
   {
    "_defaultOrder": 23,
    "_isFastLaunch": false,
    "category": "Compute optimized",
    "gpuNum": 0,
    "hideHardwareSpecs": false,
    "memoryGiB": 16,
    "name": "ml.c5.2xlarge",
    "vcpuNum": 8
   },
   {
    "_defaultOrder": 24,
    "_isFastLaunch": false,
    "category": "Compute optimized",
    "gpuNum": 0,
    "hideHardwareSpecs": false,
    "memoryGiB": 32,
    "name": "ml.c5.4xlarge",
    "vcpuNum": 16
   },
   {
    "_defaultOrder": 25,
    "_isFastLaunch": false,
    "category": "Compute optimized",
    "gpuNum": 0,
    "hideHardwareSpecs": false,
    "memoryGiB": 72,
    "name": "ml.c5.9xlarge",
    "vcpuNum": 36
   },
   {
    "_defaultOrder": 26,
    "_isFastLaunch": false,
    "category": "Compute optimized",
    "gpuNum": 0,
    "hideHardwareSpecs": false,
    "memoryGiB": 96,
    "name": "ml.c5.12xlarge",
    "vcpuNum": 48
   },
   {
    "_defaultOrder": 27,
    "_isFastLaunch": false,
    "category": "Compute optimized",
    "gpuNum": 0,
    "hideHardwareSpecs": false,
    "memoryGiB": 144,
    "name": "ml.c5.18xlarge",
    "vcpuNum": 72
   },
   {
    "_defaultOrder": 28,
    "_isFastLaunch": false,
    "category": "Compute optimized",
    "gpuNum": 0,
    "hideHardwareSpecs": false,
    "memoryGiB": 192,
    "name": "ml.c5.24xlarge",
    "vcpuNum": 96
   },
   {
    "_defaultOrder": 29,
    "_isFastLaunch": true,
    "category": "Accelerated computing",
    "gpuNum": 1,
    "hideHardwareSpecs": false,
    "memoryGiB": 16,
    "name": "ml.g4dn.xlarge",
    "vcpuNum": 4
   },
   {
    "_defaultOrder": 30,
    "_isFastLaunch": false,
    "category": "Accelerated computing",
    "gpuNum": 1,
    "hideHardwareSpecs": false,
    "memoryGiB": 32,
    "name": "ml.g4dn.2xlarge",
    "vcpuNum": 8
   },
   {
    "_defaultOrder": 31,
    "_isFastLaunch": false,
    "category": "Accelerated computing",
    "gpuNum": 1,
    "hideHardwareSpecs": false,
    "memoryGiB": 64,
    "name": "ml.g4dn.4xlarge",
    "vcpuNum": 16
   },
   {
    "_defaultOrder": 32,
    "_isFastLaunch": false,
    "category": "Accelerated computing",
    "gpuNum": 1,
    "hideHardwareSpecs": false,
    "memoryGiB": 128,
    "name": "ml.g4dn.8xlarge",
    "vcpuNum": 32
   },
   {
    "_defaultOrder": 33,
    "_isFastLaunch": false,
    "category": "Accelerated computing",
    "gpuNum": 4,
    "hideHardwareSpecs": false,
    "memoryGiB": 192,
    "name": "ml.g4dn.12xlarge",
    "vcpuNum": 48
   },
   {
    "_defaultOrder": 34,
    "_isFastLaunch": false,
    "category": "Accelerated computing",
    "gpuNum": 1,
    "hideHardwareSpecs": false,
    "memoryGiB": 256,
    "name": "ml.g4dn.16xlarge",
    "vcpuNum": 64
   },
   {
    "_defaultOrder": 35,
    "_isFastLaunch": false,
    "category": "Accelerated computing",
    "gpuNum": 1,
    "hideHardwareSpecs": false,
    "memoryGiB": 61,
    "name": "ml.p3.2xlarge",
    "vcpuNum": 8
   },
   {
    "_defaultOrder": 36,
    "_isFastLaunch": false,
    "category": "Accelerated computing",
    "gpuNum": 4,
    "hideHardwareSpecs": false,
    "memoryGiB": 244,
    "name": "ml.p3.8xlarge",
    "vcpuNum": 32
   },
   {
    "_defaultOrder": 37,
    "_isFastLaunch": false,
    "category": "Accelerated computing",
    "gpuNum": 8,
    "hideHardwareSpecs": false,
    "memoryGiB": 488,
    "name": "ml.p3.16xlarge",
    "vcpuNum": 64
   },
   {
    "_defaultOrder": 38,
    "_isFastLaunch": false,
    "category": "Accelerated computing",
    "gpuNum": 8,
    "hideHardwareSpecs": false,
    "memoryGiB": 768,
    "name": "ml.p3dn.24xlarge",
    "vcpuNum": 96
   },
   {
    "_defaultOrder": 39,
    "_isFastLaunch": false,
    "category": "Memory Optimized",
    "gpuNum": 0,
    "hideHardwareSpecs": false,
    "memoryGiB": 16,
    "name": "ml.r5.large",
    "vcpuNum": 2
   },
   {
    "_defaultOrder": 40,
    "_isFastLaunch": false,
    "category": "Memory Optimized",
    "gpuNum": 0,
    "hideHardwareSpecs": false,
    "memoryGiB": 32,
    "name": "ml.r5.xlarge",
    "vcpuNum": 4
   },
   {
    "_defaultOrder": 41,
    "_isFastLaunch": false,
    "category": "Memory Optimized",
    "gpuNum": 0,
    "hideHardwareSpecs": false,
    "memoryGiB": 64,
    "name": "ml.r5.2xlarge",
    "vcpuNum": 8
   },
   {
    "_defaultOrder": 42,
    "_isFastLaunch": false,
    "category": "Memory Optimized",
    "gpuNum": 0,
    "hideHardwareSpecs": false,
    "memoryGiB": 128,
    "name": "ml.r5.4xlarge",
    "vcpuNum": 16
   },
   {
    "_defaultOrder": 43,
    "_isFastLaunch": false,
    "category": "Memory Optimized",
    "gpuNum": 0,
    "hideHardwareSpecs": false,
    "memoryGiB": 256,
    "name": "ml.r5.8xlarge",
    "vcpuNum": 32
   },
   {
    "_defaultOrder": 44,
    "_isFastLaunch": false,
    "category": "Memory Optimized",
    "gpuNum": 0,
    "hideHardwareSpecs": false,
    "memoryGiB": 384,
    "name": "ml.r5.12xlarge",
    "vcpuNum": 48
   },
   {
    "_defaultOrder": 45,
    "_isFastLaunch": false,
    "category": "Memory Optimized",
    "gpuNum": 0,
    "hideHardwareSpecs": false,
    "memoryGiB": 512,
    "name": "ml.r5.16xlarge",
    "vcpuNum": 64
   },
   {
    "_defaultOrder": 46,
    "_isFastLaunch": false,
    "category": "Memory Optimized",
    "gpuNum": 0,
    "hideHardwareSpecs": false,
    "memoryGiB": 768,
    "name": "ml.r5.24xlarge",
    "vcpuNum": 96
   },
   {
    "_defaultOrder": 47,
    "_isFastLaunch": false,
    "category": "Accelerated computing",
    "gpuNum": 1,
    "hideHardwareSpecs": false,
    "memoryGiB": 16,
    "name": "ml.g5.xlarge",
    "vcpuNum": 4
   },
   {
    "_defaultOrder": 48,
    "_isFastLaunch": false,
    "category": "Accelerated computing",
    "gpuNum": 1,
    "hideHardwareSpecs": false,
    "memoryGiB": 32,
    "name": "ml.g5.2xlarge",
    "vcpuNum": 8
   },
   {
    "_defaultOrder": 49,
    "_isFastLaunch": false,
    "category": "Accelerated computing",
    "gpuNum": 1,
    "hideHardwareSpecs": false,
    "memoryGiB": 64,
    "name": "ml.g5.4xlarge",
    "vcpuNum": 16
   },
   {
    "_defaultOrder": 50,
    "_isFastLaunch": false,
    "category": "Accelerated computing",
    "gpuNum": 1,
    "hideHardwareSpecs": false,
    "memoryGiB": 128,
    "name": "ml.g5.8xlarge",
    "vcpuNum": 32
   },
   {
    "_defaultOrder": 51,
    "_isFastLaunch": false,
    "category": "Accelerated computing",
    "gpuNum": 1,
    "hideHardwareSpecs": false,
    "memoryGiB": 256,
    "name": "ml.g5.16xlarge",
    "vcpuNum": 64
   },
   {
    "_defaultOrder": 52,
    "_isFastLaunch": false,
    "category": "Accelerated computing",
    "gpuNum": 4,
    "hideHardwareSpecs": false,
    "memoryGiB": 192,
    "name": "ml.g5.12xlarge",
    "vcpuNum": 48
   },
   {
    "_defaultOrder": 53,
    "_isFastLaunch": false,
    "category": "Accelerated computing",
    "gpuNum": 4,
    "hideHardwareSpecs": false,
    "memoryGiB": 384,
    "name": "ml.g5.24xlarge",
    "vcpuNum": 96
   },
   {
    "_defaultOrder": 54,
    "_isFastLaunch": false,
    "category": "Accelerated computing",
    "gpuNum": 8,
    "hideHardwareSpecs": false,
    "memoryGiB": 768,
    "name": "ml.g5.48xlarge",
    "vcpuNum": 192
   }
  ],
  "instance_type": "ml.t3.medium",
  "kernelspec": {
   "display_name": "Python 3 (Base Python 3.0)",
   "language": "python",
   "name": "python3__SAGEMAKER_INTERNAL__arn:aws:sagemaker:us-east-1:081325390199:image/sagemaker-base-python-310-v1"
  },
  "language_info": {
   "codemirror_mode": {
    "name": "ipython",
    "version": 3
   },
   "file_extension": ".py",
   "mimetype": "text/x-python",
   "name": "python",
   "nbconvert_exporter": "python",
   "pygments_lexer": "ipython3",
   "version": "3.10.8"
  },
  "toc-autonumbering": false
 },
 "nbformat": 4,
 "nbformat_minor": 5
}
